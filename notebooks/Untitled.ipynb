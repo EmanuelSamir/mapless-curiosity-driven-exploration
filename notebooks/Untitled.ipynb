{
 "cells": [
  {
   "cell_type": "code",
   "execution_count": 1,
   "id": "eastern-floating",
   "metadata": {},
   "outputs": [],
   "source": [
    "import numpy as np\n",
    "import matplotlib.pyplot as plt"
   ]
  },
  {
   "cell_type": "code",
   "execution_count": 21,
   "id": "deadly-rolling",
   "metadata": {},
   "outputs": [],
   "source": [
    "p0s = np.linspace(0,1,100)"
   ]
  },
  {
   "cell_type": "code",
   "execution_count": 22,
   "id": "cardiovascular-vault",
   "metadata": {},
   "outputs": [],
   "source": [
    "p1s = np.linspace(1,0,100)"
   ]
  },
  {
   "cell_type": "code",
   "execution_count": 17,
   "id": "infinite-verse",
   "metadata": {},
   "outputs": [],
   "source": [
    "p = np.vstack((p0,p1))"
   ]
  },
  {
   "cell_type": "code",
   "execution_count": 26,
   "id": "confused-relaxation",
   "metadata": {},
   "outputs": [
    {
     "name": "stderr",
     "output_type": "stream",
     "text": [
      "/home/emanuelsamir/.local/lib/python3.6/site-packages/ipykernel_launcher.py:2: RuntimeWarning: divide by zero encountered in log10\n",
      "  \n",
      "/home/emanuelsamir/.local/lib/python3.6/site-packages/ipykernel_launcher.py:2: RuntimeWarning: invalid value encountered in double_scalars\n",
      "  \n"
     ]
    }
   ],
   "source": [
    "def entropy(p0,p1):\n",
    "    H = p0*np.log10(p0) + p1*np.log10(p1)\n",
    "    return -H\n",
    "\n",
    "hs = []\n",
    "for p0, p1 in zip(p0s, p1s):\n",
    "    h = entropy(p0,p1)\n",
    "    hs.append(h)"
   ]
  },
  {
   "cell_type": "code",
   "execution_count": 27,
   "id": "bearing-stewart",
   "metadata": {},
   "outputs": [
    {
     "data": {
      "text/plain": [
       "[<matplotlib.lines.Line2D at 0x7ff6f34c77b8>]"
      ]
     },
     "execution_count": 27,
     "metadata": {},
     "output_type": "execute_result"
    },
    {
     "data": {
      "image/png": "[encoded data removed]",
      "text/plain": [
       "<Figure size 432x288 with 1 Axes>"
      ]
     },
     "metadata": {
      "needs_background": "light"
     },
     "output_type": "display_data"
    }
   ],
   "source": [
    "plt.plot(hs[1:-1])"
   ]
  }
 ],
 "metadata": {
  "kernelspec": {
   "display_name": "Python 3",
   "language": "python",
   "name": "python3"
  },
  "language_info": {
   "codemirror_mode": {
    "name": "ipython",
    "version": 3
   },
   "file_extension": ".py",
   "mimetype": "text/x-python",
   "name": "python",
   "nbconvert_exporter": "python",
   "pygments_lexer": "ipython3",
   "version": "3.6.9"
  }
 },
 "nbformat": 4,
 "nbformat_minor": 5
}

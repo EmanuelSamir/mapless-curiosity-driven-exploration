{
 "cells": [
  {
   "cell_type": "code",
   "execution_count": 7,
   "id": "atmospheric-reporter",
   "metadata": {},
   "outputs": [],
   "source": [
    "import numpy as np\n",
    "import pandas as pd\n",
    "import matplotlib.pyplot as plt\n",
    "import os\n",
    "from scipy.spatial import ConvexHull"
   ]
  },
  {
   "cell_type": "code",
   "execution_count": 2,
   "id": "civic-maldives",
   "metadata": {},
   "outputs": [],
   "source": [
    "path = '../comparison'\n",
    "path_e = os.path.join(path, 'episodic')\n",
    "\n",
    "case =  'rnd'\n",
    "path_e = os.path.join(path_e, case, 'results.csv')\n",
    "\n",
    "df_e = pd.read_csv(path_e)"
   ]
  },
  {
   "cell_type": "code",
   "execution_count": 23,
   "id": "spoken-declaration",
   "metadata": {},
   "outputs": [
    {
     "data": {
      "text/html": [
       "<div>\n",
       "<style scoped>\n",
       "    .dataframe tbody tr th:only-of-type {\n",
       "        vertical-align: middle;\n",
       "    }\n",
       "\n",
       "    .dataframe tbody tr th {\n",
       "        vertical-align: top;\n",
       "    }\n",
       "\n",
       "    .dataframe thead th {\n",
       "        text-align: right;\n",
       "    }\n",
       "</style>\n",
       "<table border=\"1\" class=\"dataframe\">\n",
       "  <thead>\n",
       "    <tr style=\"text-align: right;\">\n",
       "      <th></th>\n",
       "      <th>Unnamed: 0</th>\n",
       "      <th>episodes</th>\n",
       "      <th>total_steps</th>\n",
       "      <th>final_states</th>\n",
       "      <th>x0s</th>\n",
       "      <th>y0s</th>\n",
       "      <th>th0s</th>\n",
       "      <th>xgs</th>\n",
       "      <th>ygs</th>\n",
       "      <th>xfs</th>\n",
       "      <th>yfs</th>\n",
       "      <th>thfs</th>\n",
       "    </tr>\n",
       "  </thead>\n",
       "  <tbody>\n",
       "    <tr>\n",
       "      <th>0</th>\n",
       "      <td>0</td>\n",
       "      <td>0</td>\n",
       "      <td>42</td>\n",
       "      <td>2</td>\n",
       "      <td>-3.770441</td>\n",
       "      <td>4.394596</td>\n",
       "      <td>0.543916</td>\n",
       "      <td>0.580414</td>\n",
       "      <td>1.496258</td>\n",
       "      <td>1.368468</td>\n",
       "      <td>3.320298</td>\n",
       "      <td>-1.206084</td>\n",
       "    </tr>\n",
       "    <tr>\n",
       "      <th>1</th>\n",
       "      <td>1</td>\n",
       "      <td>1</td>\n",
       "      <td>125</td>\n",
       "      <td>2</td>\n",
       "      <td>-2.077110</td>\n",
       "      <td>1.195213</td>\n",
       "      <td>-3.035915</td>\n",
       "      <td>-0.064912</td>\n",
       "      <td>-2.324596</td>\n",
       "      <td>0.726540</td>\n",
       "      <td>-0.650137</td>\n",
       "      <td>-2.002730</td>\n",
       "    </tr>\n",
       "    <tr>\n",
       "      <th>2</th>\n",
       "      <td>2</td>\n",
       "      <td>2</td>\n",
       "      <td>2</td>\n",
       "      <td>2</td>\n",
       "      <td>0.393375</td>\n",
       "      <td>3.260827</td>\n",
       "      <td>1.022603</td>\n",
       "      <td>2.212454</td>\n",
       "      <td>4.424819</td>\n",
       "      <td>0.549719</td>\n",
       "      <td>3.516868</td>\n",
       "      <td>1.022603</td>\n",
       "    </tr>\n",
       "    <tr>\n",
       "      <th>3</th>\n",
       "      <td>3</td>\n",
       "      <td>3</td>\n",
       "      <td>602</td>\n",
       "      <td>3</td>\n",
       "      <td>0.667811</td>\n",
       "      <td>-3.343190</td>\n",
       "      <td>0.300129</td>\n",
       "      <td>2.050568</td>\n",
       "      <td>-0.993524</td>\n",
       "      <td>-3.473003</td>\n",
       "      <td>3.234859</td>\n",
       "      <td>-1.567129</td>\n",
       "    </tr>\n",
       "    <tr>\n",
       "      <th>4</th>\n",
       "      <td>4</td>\n",
       "      <td>4</td>\n",
       "      <td>602</td>\n",
       "      <td>3</td>\n",
       "      <td>-3.468625</td>\n",
       "      <td>-3.789703</td>\n",
       "      <td>2.837610</td>\n",
       "      <td>0.742261</td>\n",
       "      <td>-4.368508</td>\n",
       "      <td>-4.126341</td>\n",
       "      <td>-4.176665</td>\n",
       "      <td>2.452649</td>\n",
       "    </tr>\n",
       "    <tr>\n",
       "      <th>...</th>\n",
       "      <td>...</td>\n",
       "      <td>...</td>\n",
       "      <td>...</td>\n",
       "      <td>...</td>\n",
       "      <td>...</td>\n",
       "      <td>...</td>\n",
       "      <td>...</td>\n",
       "      <td>...</td>\n",
       "      <td>...</td>\n",
       "      <td>...</td>\n",
       "      <td>...</td>\n",
       "      <td>...</td>\n",
       "    </tr>\n",
       "    <tr>\n",
       "      <th>995</th>\n",
       "      <td>995</td>\n",
       "      <td>995</td>\n",
       "      <td>602</td>\n",
       "      <td>3</td>\n",
       "      <td>3.472506</td>\n",
       "      <td>3.083308</td>\n",
       "      <td>2.246922</td>\n",
       "      <td>-3.891925</td>\n",
       "      <td>1.965215</td>\n",
       "      <td>2.408964</td>\n",
       "      <td>4.288179</td>\n",
       "      <td>1.861961</td>\n",
       "    </tr>\n",
       "    <tr>\n",
       "      <th>996</th>\n",
       "      <td>996</td>\n",
       "      <td>996</td>\n",
       "      <td>423</td>\n",
       "      <td>2</td>\n",
       "      <td>0.289619</td>\n",
       "      <td>-4.437706</td>\n",
       "      <td>1.840377</td>\n",
       "      <td>-1.672981</td>\n",
       "      <td>2.923319</td>\n",
       "      <td>-3.285290</td>\n",
       "      <td>3.901934</td>\n",
       "      <td>-0.560067</td>\n",
       "    </tr>\n",
       "    <tr>\n",
       "      <th>997</th>\n",
       "      <td>997</td>\n",
       "      <td>997</td>\n",
       "      <td>294</td>\n",
       "      <td>2</td>\n",
       "      <td>1.999105</td>\n",
       "      <td>2.941305</td>\n",
       "      <td>0.713813</td>\n",
       "      <td>-1.648320</td>\n",
       "      <td>-2.753698</td>\n",
       "      <td>0.223260</td>\n",
       "      <td>-3.365386</td>\n",
       "      <td>3.096555</td>\n",
       "    </tr>\n",
       "    <tr>\n",
       "      <th>998</th>\n",
       "      <td>998</td>\n",
       "      <td>998</td>\n",
       "      <td>1</td>\n",
       "      <td>2</td>\n",
       "      <td>1.280468</td>\n",
       "      <td>1.601336</td>\n",
       "      <td>1.512673</td>\n",
       "      <td>2.579725</td>\n",
       "      <td>2.284059</td>\n",
       "      <td>1.280468</td>\n",
       "      <td>1.601336</td>\n",
       "      <td>1.262673</td>\n",
       "    </tr>\n",
       "    <tr>\n",
       "      <th>999</th>\n",
       "      <td>999</td>\n",
       "      <td>999</td>\n",
       "      <td>602</td>\n",
       "      <td>3</td>\n",
       "      <td>-2.696536</td>\n",
       "      <td>2.205535</td>\n",
       "      <td>-1.297991</td>\n",
       "      <td>2.979501</td>\n",
       "      <td>1.131466</td>\n",
       "      <td>-3.267853</td>\n",
       "      <td>4.241253</td>\n",
       "      <td>-1.649768</td>\n",
       "    </tr>\n",
       "  </tbody>\n",
       "</table>\n",
       "<p>1000 rows × 12 columns</p>\n",
       "</div>"
      ],
      "text/plain": [
       "     Unnamed: 0  episodes  total_steps  final_states       x0s       y0s  \\\n",
       "0             0         0           42             2 -3.770441  4.394596   \n",
       "1             1         1          125             2 -2.077110  1.195213   \n",
       "2             2         2            2             2  0.393375  3.260827   \n",
       "3             3         3          602             3  0.667811 -3.343190   \n",
       "4             4         4          602             3 -3.468625 -3.789703   \n",
       "..          ...       ...          ...           ...       ...       ...   \n",
       "995         995       995          602             3  3.472506  3.083308   \n",
       "996         996       996          423             2  0.289619 -4.437706   \n",
       "997         997       997          294             2  1.999105  2.941305   \n",
       "998         998       998            1             2  1.280468  1.601336   \n",
       "999         999       999          602             3 -2.696536  2.205535   \n",
       "\n",
       "         th0s       xgs       ygs       xfs       yfs      thfs  \n",
       "0    0.543916  0.580414  1.496258  1.368468  3.320298 -1.206084  \n",
       "1   -3.035915 -0.064912 -2.324596  0.726540 -0.650137 -2.002730  \n",
       "2    1.022603  2.212454  4.424819  0.549719  3.516868  1.022603  \n",
       "3    0.300129  2.050568 -0.993524 -3.473003  3.234859 -1.567129  \n",
       "4    2.837610  0.742261 -4.368508 -4.126341 -4.176665  2.452649  \n",
       "..        ...       ...       ...       ...       ...       ...  \n",
       "995  2.246922 -3.891925  1.965215  2.408964  4.288179  1.861961  \n",
       "996  1.840377 -1.672981  2.923319 -3.285290  3.901934 -0.560067  \n",
       "997  0.713813 -1.648320 -2.753698  0.223260 -3.365386  3.096555  \n",
       "998  1.512673  2.579725  2.284059  1.280468  1.601336  1.262673  \n",
       "999 -1.297991  2.979501  1.131466 -3.267853  4.241253 -1.649768  \n",
       "\n",
       "[1000 rows x 12 columns]"
      ]
     },
     "execution_count": 23,
     "metadata": {},
     "output_type": "execute_result"
    }
   ],
   "source": [
    "df_e"
   ]
  },
  {
   "cell_type": "code",
   "execution_count": 55,
   "id": "excited-blood",
   "metadata": {},
   "outputs": [
    {
     "name": "stdout",
     "output_type": "stream",
     "text": [
      "random\n",
      "87.2 % crashed times\n",
      "12.8 % success times\n",
      "0.0 % nothing times\n",
      "baseline\n",
      "0.0 % crashed times\n",
      "10.8 % success times\n",
      "89.2 % nothing times\n",
      "rnd\n",
      "0.4 % crashed times\n",
      "50.6 % success times\n",
      "49.0 % nothing times\n"
     ]
    },
    {
     "data": {
      "text/plain": [
       "<matplotlib.legend.Legend at 0x7f498787eeb8>"
      ]
     },
     "execution_count": 55,
     "metadata": {},
     "output_type": "execute_result"
    },
    {
     "data": {
      "image/png": "[encoded data removed]",
      "text/plain": [
       "<Figure size 720x432 with 1 Axes>"
      ]
     },
     "metadata": {
      "needs_background": "light"
     },
     "output_type": "display_data"
    }
   ],
   "source": [
    "def counter(data):\n",
    "    zxs = []\n",
    "    ra = [1,2,3]\n",
    "    for a in ra:\n",
    "        z = np.count_nonzero(df_e['final_states'].values == a)/10\n",
    "        zxs.append(z)\n",
    "    return ra, zxs\n",
    "        \n",
    "\n",
    "cases = ['random', 'baseline', 'rnd']\n",
    "\n",
    "ls_lst = []\n",
    "\n",
    "for case in cases:\n",
    "    path = '../comparison'\n",
    "    path_e = os.path.join(path, 'episodic')\n",
    "\n",
    "    #case =  'rnd'\n",
    "    path_e = os.path.join(path_e, case, 'results.csv')\n",
    "\n",
    "    df_e = pd.read_csv(path_e)\n",
    "    \n",
    "    \n",
    "    \n",
    "    zs, zxs = counter(df_e['final_states'].values)\n",
    "    #zs, zxs = np.unique(df_e['final_states'].values,return_counts=True)\n",
    "    \n",
    "    labels = ['','crashed', 'success', 'nothing']\n",
    "    print(case)\n",
    "    for z, zx in zip(zs, zxs):\n",
    "        print('{} % {} times'.format(zx, labels[z])  )\n",
    "        \n",
    "    ls_lst.append(zxs)\n",
    "    \n",
    "ls_lst = np.array(ls_lst)\n",
    "\n",
    "N = 3\n",
    "ind = np.arange(N)  # the x locations for the groups\n",
    "width = 0.27       # the width of the bars\n",
    "\n",
    "fig = plt.figure(figsize = (10,6))\n",
    "ax = fig.add_subplot(111)\n",
    "\n",
    "\n",
    "rects1 = ax.bar(ind, ls_lst[:,0], width, color='r')\n",
    "rects2 = ax.bar(ind+width, ls_lst[:,1], width, color='g')\n",
    "rects3 = ax.bar(ind+width*2, ls_lst[:,2], width, color='b')\n",
    "\n",
    "ax.set_ylabel('Percentage ratio (%)')\n",
    "ax.set_xticks(ind+width)\n",
    "ax.set_xticklabels( ('Aleatorio', 'A2C', 'A2C+RND') )\n",
    "ax.legend( (rects1[0], rects2[0], rects3[0]), ('tasa de choque', 'tasa de éxito', 'tasa de inacción') )\n",
    "\n",
    "#def autolabel(rects):\n",
    "#    for rect in rects:\n",
    "#        h = rect.get_height()\n",
    "#        ax.text(rect.get_x()+rect.get_width()/2., 1.05*h, '%d'%int(h),\n",
    "#                ha='center', va='bottom')\n",
    "\n",
    "#autolabel(rects1)\n",
    "#autolabel(rects2)\n",
    "#autolabel(rects3)\n",
    "\n",
    "#plt.xticks([1, 2, 3],cases)\n",
    "\n",
    "        \n"
   ]
  },
  {
   "cell_type": "code",
   "execution_count": 57,
   "id": "senior-antigua",
   "metadata": {},
   "outputs": [
    {
     "data": {
      "text/plain": [
       "([<matplotlib.axis.XTick at 0x7f4987455e48>,\n",
       "  <matplotlib.axis.XTick at 0x7f4987455a20>,\n",
       "  <matplotlib.axis.XTick at 0x7f4987cfe3c8>],\n",
       " [Text(1, 0, 'Aleatorio'), Text(2, 0, 'A2C'), Text(3, 0, 'A2C+RND')])"
      ]
     },
     "execution_count": 57,
     "metadata": {},
     "output_type": "execute_result"
    },
    {
     "data": {
      "image/png": "[encoded data removed]",
      "text/plain": [
       "<Figure size 432x288 with 1 Axes>"
      ]
     },
     "metadata": {
      "needs_background": "light"
     },
     "output_type": "display_data"
    },
    {
     "data": {
      "image/png": "[encoded data removed]",
      "text/plain": [
       "<Figure size 432x288 with 1 Axes>"
      ]
     },
     "metadata": {
      "needs_background": "light"
     },
     "output_type": "display_data"
    },
    {
     "data": {
      "image/png": "[encoded data removed]",
      "text/plain": [
       "<Figure size 432x288 with 1 Axes>"
      ]
     },
     "metadata": {
      "needs_background": "light"
     },
     "output_type": "display_data"
    },
    {
     "data": {
      "image/png": "[encoded data removed]",
      "text/plain": [
       "<Figure size 720x432 with 1 Axes>"
      ]
     },
     "metadata": {
      "needs_background": "light"
     },
     "output_type": "display_data"
    }
   ],
   "source": [
    "cases = ['random', 'baseline', 'rnd']\n",
    "\n",
    "ls_lst = []\n",
    "\n",
    "for case in cases:\n",
    "    path = '../comparison'\n",
    "    path_e = os.path.join(path, 'episodic')\n",
    "\n",
    "    #case =  'rnd'\n",
    "    path_e = os.path.join(path_e, case, 'results.csv')\n",
    "\n",
    "    df_e = pd.read_csv(path_e)\n",
    "    \n",
    "    t_lst = []\n",
    "    for index, row in df_e.iterrows():\n",
    "        a = row['final_states']\n",
    "        b = row['x0s']\n",
    "        c = row['y0s']\n",
    "        d = row['xgs']\n",
    "        e = row['ygs']\n",
    "        f = row['total_steps']\n",
    "        if a == 2:\n",
    "            t_lst.append([np.linalg.norm((b - d, c - e)), f])\n",
    "        \n",
    "            \n",
    "    ds = np.array(t_lst)\n",
    "    plt.figure()\n",
    "    plt.scatter(ds[:,0], ds[:,1])\n",
    "    ls_lst.append(ds[:,1])\n",
    "    \n",
    "f, ax = plt.subplots(figsize = (10,6))\n",
    "\n",
    "plt.boxplot(ls_lst)\n",
    "plt.xticks([1, 2, 3],['Aleatorio', 'A2C', 'A2C+RND'])"
   ]
  },
  {
   "cell_type": "code",
   "execution_count": null,
   "id": "arranged-transmission",
   "metadata": {},
   "outputs": [],
   "source": []
  },
  {
   "cell_type": "code",
   "execution_count": 58,
   "id": "informed-skiing",
   "metadata": {},
   "outputs": [
    {
     "name": "stdout",
     "output_type": "stream",
     "text": [
      "Case random. Area mean 0.8955351639415268, Area std 1.6548290639812222, and Area max 11.788067079778962\n",
      "Case baseline. Area mean 0.0, Area std 0.0, and Area max 0\n",
      "Case rnd. Area mean 14.479601266336111, Area std 13.679403412903325, and Area max 62.5902240669739\n"
     ]
    },
    {
     "data": {
      "text/plain": [
       "([<matplotlib.axis.XTick at 0x7f4987e92f98>,\n",
       "  <matplotlib.axis.XTick at 0x7f4987e92860>,\n",
       "  <matplotlib.axis.XTick at 0x7f4987aac208>],\n",
       " [Text(1, 0, 'Aleatorio'), Text(2, 0, 'A2C'), Text(3, 0, 'A2C+RND')])"
      ]
     },
     "execution_count": 58,
     "metadata": {},
     "output_type": "execute_result"
    },
    {
     "data": {
      "image/png": "[encoded data removed]",
      "text/plain": [
       "<Figure size 1080x432 with 1 Axes>"
      ]
     },
     "metadata": {
      "needs_background": "light"
     },
     "output_type": "display_data"
    }
   ],
   "source": [
    "\n",
    "f, ax = plt.subplots(1,1, figsize = (15,6))\n",
    "\n",
    "\n",
    "ls_lst = []\n",
    "for i, case in enumerate(cases):\n",
    "    area_lst = []\n",
    "    for exp in range(1000):\n",
    "        path = '../comparison'\n",
    "        path_v = os.path.join(path, 'vertices')\n",
    "\n",
    "        #case =  'baseline'\n",
    "        path_v = os.path.join(path_v, case, str(exp),'vertices.csv')\n",
    "\n",
    "        df_v = pd.read_csv(path_v)\n",
    "        if df_v.index.stop > 4:\n",
    "            #print(df_v.values[:,1:])\n",
    "            hull = ConvexHull(df_v.values[:,1:])\n",
    "            area_lst.append(hull.volume)\n",
    "        else:\n",
    "            area_lst.append(0)\n",
    "    ls_lst.append(area_lst)\n",
    "    #ax[i].boxplot(area_lst)\n",
    "    m, std, mxm = np.mean(area_lst), np.std(area_lst), np.max(area_lst)\n",
    "    print('Case {}. Area mean {}, Area std {}, and Area max {}'.format(case, m, std, mxm))\n",
    "    \n",
    "black_square = dict(markerfacecolor='k', marker='s')       \n",
    "ax.boxplot(ls_lst, flierprops=black_square)\n",
    "plt.xticks([1, 2, 3],['Aleatorio', 'A2C', 'A2C+RND'])"
   ]
  },
  {
   "cell_type": "code",
   "execution_count": 17,
   "id": "sticky-federal",
   "metadata": {},
   "outputs": [
    {
     "name": "stdout",
     "output_type": "stream",
     "text": [
      "40.0\n"
     ]
    }
   ],
   "source": [
    "a = ConvexHull([(-5,-5),(-5,5),(5,-5),(5,5)]).area\n",
    "print(a)"
   ]
  },
  {
   "cell_type": "code",
   "execution_count": 15,
   "id": "unexpected-madagascar",
   "metadata": {},
   "outputs": [
    {
     "data": {
      "image/png": "[encoded data removed]",
      "text/plain": [
       "<Figure size 432x288 with 1 Axes>"
      ]
     },
     "metadata": {
      "needs_background": "light"
     },
     "output_type": "display_data"
    }
   ],
   "source": [
    "case = 'rnd'\n",
    "\n",
    "area_lst = []\n",
    "exp = 318\n",
    "path = '../comparison'\n",
    "path_v = os.path.join(path, 'vertices')\n",
    "\n",
    "#case =  'baseline'\n",
    "path_v = os.path.join(path_v, case, str(exp),'vertices.csv')\n",
    "\n",
    "df_v = pd.read_csv(path_v)\n",
    "\n",
    "points = df_v.values[:,1:]\n",
    "\n",
    "hull = ConvexHull(points)\n",
    "\n",
    "plt.plot(points[:,0], points[:,1])\n",
    "\n",
    "for simplex in hull.simplices:\n",
    "\n",
    "    plt.plot(points[simplex, 0], points[simplex, 1], 'k-')\n",
    "\n",
    "#print(hull.area)\n"
   ]
  },
  {
   "cell_type": "code",
   "execution_count": 62,
   "id": "general-entrepreneur",
   "metadata": {},
   "outputs": [
    {
     "data": {
      "text/html": [
       "<div>\n",
       "<style scoped>\n",
       "    .dataframe tbody tr th:only-of-type {\n",
       "        vertical-align: middle;\n",
       "    }\n",
       "\n",
       "    .dataframe tbody tr th {\n",
       "        vertical-align: top;\n",
       "    }\n",
       "\n",
       "    .dataframe thead th {\n",
       "        text-align: right;\n",
       "    }\n",
       "</style>\n",
       "<table border=\"1\" class=\"dataframe\">\n",
       "  <thead>\n",
       "    <tr style=\"text-align: right;\">\n",
       "      <th></th>\n",
       "      <th>Unnamed: 0</th>\n",
       "      <th>episodes</th>\n",
       "      <th>total_steps</th>\n",
       "      <th>final_states</th>\n",
       "      <th>x0s</th>\n",
       "      <th>y0s</th>\n",
       "      <th>th0s</th>\n",
       "      <th>xgs</th>\n",
       "      <th>ygs</th>\n",
       "      <th>xfs</th>\n",
       "      <th>yfs</th>\n",
       "      <th>thfs</th>\n",
       "    </tr>\n",
       "  </thead>\n",
       "  <tbody>\n",
       "    <tr>\n",
       "      <th>590</th>\n",
       "      <td>590</td>\n",
       "      <td>590</td>\n",
       "      <td>1</td>\n",
       "      <td>2</td>\n",
       "      <td>-4.519833</td>\n",
       "      <td>-0.381476</td>\n",
       "      <td>1.580946</td>\n",
       "      <td>-4.555738</td>\n",
       "      <td>0.120593</td>\n",
       "      <td>-4.519833</td>\n",
       "      <td>-0.381476</td>\n",
       "      <td>1.330946</td>\n",
       "    </tr>\n",
       "    <tr>\n",
       "      <th>525</th>\n",
       "      <td>525</td>\n",
       "      <td>525</td>\n",
       "      <td>1</td>\n",
       "      <td>2</td>\n",
       "      <td>-2.343648</td>\n",
       "      <td>-2.572782</td>\n",
       "      <td>0.952157</td>\n",
       "      <td>-2.608852</td>\n",
       "      <td>-1.750690</td>\n",
       "      <td>-2.343648</td>\n",
       "      <td>-2.572782</td>\n",
       "      <td>1.202157</td>\n",
       "    </tr>\n",
       "    <tr>\n",
       "      <th>940</th>\n",
       "      <td>940</td>\n",
       "      <td>940</td>\n",
       "      <td>1</td>\n",
       "      <td>2</td>\n",
       "      <td>3.836735</td>\n",
       "      <td>2.399748</td>\n",
       "      <td>-1.761478</td>\n",
       "      <td>3.539248</td>\n",
       "      <td>1.458050</td>\n",
       "      <td>3.808305</td>\n",
       "      <td>2.252466</td>\n",
       "      <td>-1.761478</td>\n",
       "    </tr>\n",
       "    <tr>\n",
       "      <th>53</th>\n",
       "      <td>53</td>\n",
       "      <td>53</td>\n",
       "      <td>1</td>\n",
       "      <td>2</td>\n",
       "      <td>-2.186618</td>\n",
       "      <td>-3.452358</td>\n",
       "      <td>0.418120</td>\n",
       "      <td>-0.856469</td>\n",
       "      <td>-2.607518</td>\n",
       "      <td>-2.049540</td>\n",
       "      <td>-3.391451</td>\n",
       "      <td>0.418120</td>\n",
       "    </tr>\n",
       "    <tr>\n",
       "      <th>567</th>\n",
       "      <td>567</td>\n",
       "      <td>567</td>\n",
       "      <td>1</td>\n",
       "      <td>2</td>\n",
       "      <td>-3.720387</td>\n",
       "      <td>-1.935150</td>\n",
       "      <td>2.238197</td>\n",
       "      <td>-4.167532</td>\n",
       "      <td>-0.960494</td>\n",
       "      <td>-3.720387</td>\n",
       "      <td>-1.935150</td>\n",
       "      <td>2.488197</td>\n",
       "    </tr>\n",
       "    <tr>\n",
       "      <th>...</th>\n",
       "      <td>...</td>\n",
       "      <td>...</td>\n",
       "      <td>...</td>\n",
       "      <td>...</td>\n",
       "      <td>...</td>\n",
       "      <td>...</td>\n",
       "      <td>...</td>\n",
       "      <td>...</td>\n",
       "      <td>...</td>\n",
       "      <td>...</td>\n",
       "      <td>...</td>\n",
       "      <td>...</td>\n",
       "    </tr>\n",
       "    <tr>\n",
       "      <th>317</th>\n",
       "      <td>317</td>\n",
       "      <td>317</td>\n",
       "      <td>602</td>\n",
       "      <td>3</td>\n",
       "      <td>-1.252778</td>\n",
       "      <td>-1.679007</td>\n",
       "      <td>1.237934</td>\n",
       "      <td>2.582404</td>\n",
       "      <td>-3.161174</td>\n",
       "      <td>1.387739</td>\n",
       "      <td>3.343137</td>\n",
       "      <td>0.253416</td>\n",
       "    </tr>\n",
       "    <tr>\n",
       "      <th>318</th>\n",
       "      <td>318</td>\n",
       "      <td>318</td>\n",
       "      <td>602</td>\n",
       "      <td>3</td>\n",
       "      <td>0.821591</td>\n",
       "      <td>4.149518</td>\n",
       "      <td>-1.343279</td>\n",
       "      <td>-2.388840</td>\n",
       "      <td>3.843799</td>\n",
       "      <td>1.372406</td>\n",
       "      <td>3.118782</td>\n",
       "      <td>3.021759</td>\n",
       "    </tr>\n",
       "    <tr>\n",
       "      <th>642</th>\n",
       "      <td>642</td>\n",
       "      <td>642</td>\n",
       "      <td>602</td>\n",
       "      <td>3</td>\n",
       "      <td>3.923765</td>\n",
       "      <td>2.463170</td>\n",
       "      <td>2.712043</td>\n",
       "      <td>-3.221144</td>\n",
       "      <td>-3.294771</td>\n",
       "      <td>1.142127</td>\n",
       "      <td>3.882629</td>\n",
       "      <td>-0.805660</td>\n",
       "    </tr>\n",
       "    <tr>\n",
       "      <th>742</th>\n",
       "      <td>742</td>\n",
       "      <td>742</td>\n",
       "      <td>602</td>\n",
       "      <td>3</td>\n",
       "      <td>-2.052543</td>\n",
       "      <td>0.368027</td>\n",
       "      <td>0.070783</td>\n",
       "      <td>1.786595</td>\n",
       "      <td>-1.354222</td>\n",
       "      <td>-3.108523</td>\n",
       "      <td>-2.387395</td>\n",
       "      <td>0.269895</td>\n",
       "    </tr>\n",
       "    <tr>\n",
       "      <th>999</th>\n",
       "      <td>999</td>\n",
       "      <td>999</td>\n",
       "      <td>602</td>\n",
       "      <td>3</td>\n",
       "      <td>-2.696536</td>\n",
       "      <td>2.205535</td>\n",
       "      <td>-1.297991</td>\n",
       "      <td>2.979501</td>\n",
       "      <td>1.131466</td>\n",
       "      <td>-3.267853</td>\n",
       "      <td>4.241253</td>\n",
       "      <td>-1.649768</td>\n",
       "    </tr>\n",
       "  </tbody>\n",
       "</table>\n",
       "<p>1000 rows × 12 columns</p>\n",
       "</div>"
      ],
      "text/plain": [
       "     Unnamed: 0  episodes  total_steps  final_states       x0s       y0s  \\\n",
       "590         590       590            1             2 -4.519833 -0.381476   \n",
       "525         525       525            1             2 -2.343648 -2.572782   \n",
       "940         940       940            1             2  3.836735  2.399748   \n",
       "53           53        53            1             2 -2.186618 -3.452358   \n",
       "567         567       567            1             2 -3.720387 -1.935150   \n",
       "..          ...       ...          ...           ...       ...       ...   \n",
       "317         317       317          602             3 -1.252778 -1.679007   \n",
       "318         318       318          602             3  0.821591  4.149518   \n",
       "642         642       642          602             3  3.923765  2.463170   \n",
       "742         742       742          602             3 -2.052543  0.368027   \n",
       "999         999       999          602             3 -2.696536  2.205535   \n",
       "\n",
       "         th0s       xgs       ygs       xfs       yfs      thfs  \n",
       "590  1.580946 -4.555738  0.120593 -4.519833 -0.381476  1.330946  \n",
       "525  0.952157 -2.608852 -1.750690 -2.343648 -2.572782  1.202157  \n",
       "940 -1.761478  3.539248  1.458050  3.808305  2.252466 -1.761478  \n",
       "53   0.418120 -0.856469 -2.607518 -2.049540 -3.391451  0.418120  \n",
       "567  2.238197 -4.167532 -0.960494 -3.720387 -1.935150  2.488197  \n",
       "..        ...       ...       ...       ...       ...       ...  \n",
       "317  1.237934  2.582404 -3.161174  1.387739  3.343137  0.253416  \n",
       "318 -1.343279 -2.388840  3.843799  1.372406  3.118782  3.021759  \n",
       "642  2.712043 -3.221144 -3.294771  1.142127  3.882629 -0.805660  \n",
       "742  0.070783  1.786595 -1.354222 -3.108523 -2.387395  0.269895  \n",
       "999 -1.297991  2.979501  1.131466 -3.267853  4.241253 -1.649768  \n",
       "\n",
       "[1000 rows x 12 columns]"
      ]
     },
     "execution_count": 62,
     "metadata": {},
     "output_type": "execute_result"
    }
   ],
   "source": [
    "df_e.sort_values(by=['total_steps'])"
   ]
  },
  {
   "cell_type": "code",
   "execution_count": null,
   "id": "little-assumption",
   "metadata": {},
   "outputs": [],
   "source": [
    "cases = ['random', 'baseline', 'rnd']\n",
    "\n",
    "for case in cases:\n",
    "    path = '../comparison'\n",
    "    path_e = os.path.join(path, 'episodic')\n",
    "\n",
    "    #case =  'rnd'\n",
    "    path_e = os.path.join(path_e, case, 'results.csv')\n",
    "\n",
    "    df_e = pd.read_csv(path_e)\n",
    "    \n",
    "    zs, zxs = np.unique(df_e['final_states'].values,return_counts=True)\n",
    "    \n",
    "    labels = ['','crashed', 'success', 'nothing']\n",
    "    print(case)\n",
    "    for z, zx in zip(zs, zxs):\n",
    "        print('{} {} times'.format(zx/10, labels[z])  )\n",
    "        "
   ]
  },
  {
   "cell_type": "code",
   "execution_count": null,
   "id": "agricultural-snapshot",
   "metadata": {},
   "outputs": [],
   "source": []
  },
  {
   "cell_type": "code",
   "execution_count": 22,
   "id": "alike-robin",
   "metadata": {},
   "outputs": [],
   "source": [
    "path = '../comparison'\n",
    "path_v = os.path.join(path, 'vertices')\n",
    "\n",
    "case =  'random'\n",
    "exp = 3\n",
    "path_v = os.path.join(path_v, case, str(exp),'vertices.csv')\n",
    "\n",
    "df_v = pd.read_csv(path_v)"
   ]
  },
  {
   "cell_type": "code",
   "execution_count": 14,
   "id": "developed-timeline",
   "metadata": {},
   "outputs": [
    {
     "data": {
      "text/html": [
       "<div>\n",
       "<style scoped>\n",
       "    .dataframe tbody tr th:only-of-type {\n",
       "        vertical-align: middle;\n",
       "    }\n",
       "\n",
       "    .dataframe tbody tr th {\n",
       "        vertical-align: top;\n",
       "    }\n",
       "\n",
       "    .dataframe thead th {\n",
       "        text-align: right;\n",
       "    }\n",
       "</style>\n",
       "<table border=\"1\" class=\"dataframe\">\n",
       "  <thead>\n",
       "    <tr style=\"text-align: right;\">\n",
       "      <th></th>\n",
       "      <th>Unnamed: 0</th>\n",
       "      <th>x</th>\n",
       "      <th>y</th>\n",
       "    </tr>\n",
       "  </thead>\n",
       "  <tbody>\n",
       "    <tr>\n",
       "      <th>0</th>\n",
       "      <td>0</td>\n",
       "      <td>3.928509</td>\n",
       "      <td>0.704096</td>\n",
       "    </tr>\n",
       "    <tr>\n",
       "      <th>1</th>\n",
       "      <td>1</td>\n",
       "      <td>4.078434</td>\n",
       "      <td>0.699364</td>\n",
       "    </tr>\n",
       "    <tr>\n",
       "      <th>2</th>\n",
       "      <td>2</td>\n",
       "      <td>4.222528</td>\n",
       "      <td>0.657687</td>\n",
       "    </tr>\n",
       "    <tr>\n",
       "      <th>3</th>\n",
       "      <td>3</td>\n",
       "      <td>4.515399</td>\n",
       "      <td>0.722702</td>\n",
       "    </tr>\n",
       "  </tbody>\n",
       "</table>\n",
       "</div>"
      ],
      "text/plain": [
       "   Unnamed: 0         x         y\n",
       "0           0  3.928509  0.704096\n",
       "1           1  4.078434  0.699364\n",
       "2           2  4.222528  0.657687\n",
       "3           3  4.515399  0.722702"
      ]
     },
     "execution_count": 14,
     "metadata": {},
     "output_type": "execute_result"
    }
   ],
   "source": [
    "df_v"
   ]
  },
  {
   "cell_type": "code",
   "execution_count": 6,
   "id": "rental-delay",
   "metadata": {},
   "outputs": [],
   "source": []
  },
  {
   "cell_type": "code",
   "execution_count": 16,
   "id": "color-tackle",
   "metadata": {},
   "outputs": [],
   "source": [
    "hull = ConvexHull(df_v.values[:,1:])"
   ]
  },
  {
   "cell_type": "code",
   "execution_count": 28,
   "id": "worthy-heater",
   "metadata": {},
   "outputs": [
    {
     "data": {
      "text/plain": [
       "6.974013796297237"
      ]
     },
     "execution_count": 28,
     "metadata": {},
     "output_type": "execute_result"
    }
   ],
   "source": [
    "hull.area"
   ]
  },
  {
   "cell_type": "code",
   "execution_count": 34,
   "id": "mexican-singles",
   "metadata": {},
   "outputs": [
    {
     "data": {
      "text/plain": [
       "16"
      ]
     },
     "execution_count": 34,
     "metadata": {},
     "output_type": "execute_result"
    }
   ],
   "source": []
  },
  {
   "cell_type": "code",
   "execution_count": 17,
   "id": "racial-superior",
   "metadata": {},
   "outputs": [
    {
     "data": {
      "text/plain": [
       "array([[3.92850889, 0.70409638],\n",
       "       [4.07843423, 0.69936435],\n",
       "       [4.22252803, 0.6576873 ],\n",
       "       [4.51539853, 0.7227017 ]])"
      ]
     },
     "execution_count": 17,
     "metadata": {},
     "output_type": "execute_result"
    }
   ],
   "source": [
    "df_v.values[:,1:]"
   ]
  },
  {
   "cell_type": "code",
   "execution_count": 18,
   "id": "dramatic-niger",
   "metadata": {},
   "outputs": [],
   "source": [
    "area_lst = []\n",
    "\n",
    "for exp in range(1000):\n",
    "    path = '../comparison'\n",
    "    path_v = os.path.join(path, 'vertices')\n",
    "\n",
    "\n",
    "    case =  'baseline'\n",
    "    path_v = os.path.join(path_v, case, str(exp),'vertices.csv')\n",
    "\n",
    "    df_v = pd.read_csv(path_v)\n",
    "    if df_v.index.stop > 4:\n",
    "        #print(df_v.values[:,1:])\n",
    "        hull = ConvexHull(df_v.values[:,1:])\n",
    "        area_lst.append(hull.area)\n",
    "    else:\n",
    "        area_lst.append(0)\n",
    "\n",
    "    "
   ]
  },
  {
   "cell_type": "code",
   "execution_count": 20,
   "id": "surprising-poetry",
   "metadata": {},
   "outputs": [
    {
     "data": {
      "text/plain": [
       "0.023022617459998385"
      ]
     },
     "execution_count": 20,
     "metadata": {},
     "output_type": "execute_result"
    }
   ],
   "source": [
    "np.mean(area_lst)"
   ]
  },
  {
   "cell_type": "markdown",
   "id": "municipal-scenario",
   "metadata": {},
   "source": [
    "-----------------------\n"
   ]
  },
  {
   "cell_type": "code",
   "execution_count": null,
   "id": "dental-desperate",
   "metadata": {},
   "outputs": [],
   "source": []
  }
 ],
 "metadata": {
  "kernelspec": {
   "display_name": "Python 3",
   "language": "python",
   "name": "python3"
  },
  "language_info": {
   "codemirror_mode": {
    "name": "ipython",
    "version": 3
   },
   "file_extension": ".py",
   "mimetype": "text/x-python",
   "name": "python",
   "nbconvert_exporter": "python",
   "pygments_lexer": "ipython3",
   "version": "3.6.9"
  }
 },
 "nbformat": 4,
 "nbformat_minor": 5
}

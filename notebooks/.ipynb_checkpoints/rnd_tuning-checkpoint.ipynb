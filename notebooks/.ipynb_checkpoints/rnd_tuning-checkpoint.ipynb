{
 "cells": [
  {
   "cell_type": "code",
   "execution_count": 1,
   "id": "found-religious",
   "metadata": {},
   "outputs": [],
   "source": [
    "from torch import nn\n",
    "import torch\n",
    "from os.path import join\n",
    "import pandas as pd\n",
    "from matplotlib import pyplot as plt\n",
    "import torch.nn.functional as F\n",
    "import numpy as np\n",
    "import random\n",
    "import json\n",
    "import yaml\n",
    "import io"
   ]
  },
  {
   "cell_type": "code",
   "execution_count": 147,
   "id": "solved-bouquet",
   "metadata": {},
   "outputs": [],
   "source": [
    "def weights_init(m):\n",
    "    classname = m.__class__.__name__\n",
    "    if classname.find('Linear') != -1:\n",
    "        m.weight.data.normal_(0.0, 5.)\n",
    "        m.bias.data.normal_(0.0, 5.)\n",
    "\n",
    "class RND(nn.Module):\n",
    "    def __init__(self, state_dim = 16, k = 16):\n",
    "        super(RND, self).__init__()      \n",
    "        self.first = True\n",
    "\n",
    "        f1 = state_dim\n",
    "        f2 = 32\n",
    "        f3 = 16\n",
    "        f4 = 16\n",
    "        self.k = k\n",
    "        \n",
    "        # Experiment with 8 layers 16: No puede converger\n",
    "        # Experiment p (16) t(2: Similar works, different does not converge\n",
    "        # Experiment p (2) t(16): Similar partially works, different does not converge\n",
    "        # Experiment 2 layers: Both does not work\n",
    "        # Experiment two layers one activation: Terrible\n",
    "        # Experiment one layer: Similar works well, different works some how well\n",
    "            # Experiment with high k 256: Works pretty well both\n",
    "            # Experiment with low k 8: Works better but maybe it is only for some cases\n",
    "            # Experiment with low k without zero-one initialization: Works slightly better\n",
    "            # Experiment with super high k 1028: Works no so well, but works\n",
    "\n",
    "\n",
    "        self.target =  nn.Sequential(\n",
    "                            nn.Linear(f1, k),                   nn.Sigmoid(),\n",
    "                            #nn.Linear(f2, k),                    nn.Sigmoid()\n",
    "                            ) \n",
    "\n",
    "        \n",
    "        self.predictor = nn.Sequential(\n",
    "                            nn.Linear(f1, k),                   nn.Sigmoid(),\n",
    "                            #nn.Linear(f2, k),                    nn.Sigmoid()\n",
    "                            )  \n",
    "        self.predictor.apply(weights_init)\n",
    "        self.target.apply(weights_init)\n",
    "        \n",
    "            \n",
    "    def fix_target(self):\n",
    "        for param in self.target.parameters():\n",
    "            param.requires_grad = False\n",
    "\n",
    "    def reset(self):\n",
    "        self.predictor.apply(weights_init)\n",
    "        self.target.apply(weights_init)\n",
    "\n",
    "    def forward(self, x):\n",
    "        to = self.target(x)\n",
    "        po = self.predictor(x)\n",
    "\n",
    "        mse = (to - po).pow(2).sum(0) / self.k * 2\n",
    "\n",
    "        int_reward =  mse.detach().float().unsqueeze(0)\n",
    "\n",
    "        return to, po, int_reward\n",
    "\n",
    "def tl(x): return torch.from_numpy(x).float()"
   ]
  },
  {
   "cell_type": "code",
   "execution_count": null,
   "id": "binary-geography",
   "metadata": {},
   "outputs": [],
   "source": []
  },
  {
   "cell_type": "code",
   "execution_count": null,
   "id": "conscious-heath",
   "metadata": {},
   "outputs": [],
   "source": []
  },
  {
   "cell_type": "code",
   "execution_count": 31,
   "id": "representative-blood",
   "metadata": {},
   "outputs": [],
   "source": []
  },
  {
   "cell_type": "code",
   "execution_count": 153,
   "id": "proof-cigarette",
   "metadata": {},
   "outputs": [],
   "source": [
    "torch.set_printoptions(precision=3)"
   ]
  },
  {
   "cell_type": "code",
   "execution_count": 228,
   "id": "continued-rider",
   "metadata": {},
   "outputs": [],
   "source": [
    "obs_n = 8\n",
    "k = 16\n",
    "\n",
    "SAMPLE_SIZE = 1_000\n",
    "rnd = RND(state_dim = obs_n, k = k)\n",
    "s = torch.rand(1, obs_n)"
   ]
  },
  {
   "cell_type": "code",
   "execution_count": 229,
   "id": "capable-conditions",
   "metadata": {},
   "outputs": [
    {
     "data": {
      "text/plain": [
       "(tensor([[1.878e-02, 7.206e-03, 9.976e-01, 1.000e+00, 1.302e-03, 5.659e-04,\n",
       "          9.995e-01, 1.960e-06, 5.180e-01, 7.683e-09, 1.940e-02, 9.994e-01,\n",
       "          9.998e-01, 3.890e-02, 1.062e-03, 1.000e+00]],\n",
       "        grad_fn=<SigmoidBackward>),\n",
       " tensor([[1.895e-05, 1.993e-02, 2.779e-01, 3.786e-05, 6.403e-01, 9.990e-01,\n",
       "          2.670e-01, 2.902e-01, 1.000e+00, 1.638e-05, 8.015e-03, 1.000e+00,\n",
       "          2.363e-06, 3.476e-01, 6.862e-01, 9.987e-01]],\n",
       "        grad_fn=<SigmoidBackward>),\n",
       " tensor([[4.400e-05, 2.024e-05, 6.475e-02, 1.250e-01, 5.104e-02, 1.246e-01,\n",
       "          6.706e-02, 1.052e-02, 2.904e-02, 3.350e-11, 1.621e-05, 5.148e-08,\n",
       "          1.249e-01, 1.191e-02, 5.868e-02, 2.220e-07]]))"
      ]
     },
     "execution_count": 229,
     "metadata": {},
     "output_type": "execute_result"
    }
   ],
   "source": [
    "rnd(s)"
   ]
  },
  {
   "cell_type": "code",
   "execution_count": 230,
   "id": "unusual-chancellor",
   "metadata": {},
   "outputs": [],
   "source": [
    "predictor_opt = torch.optim.Adam(rnd.predictor.parameters(), lr = 1e-2)\n",
    "target_opt = torch.optim.Adam(rnd.target.parameters(), lr = 1e-2)\n",
    "\n",
    "pred_data_in = torch.rand((SAMPLE_SIZE, obs_n))\n",
    "target_data_in = torch.rand((SAMPLE_SIZE, obs_n))\n",
    "\n",
    "pred_data_out = torch.zeros((SAMPLE_SIZE, k), requires_grad=False)\n",
    "target_data_out = torch.ones((SAMPLE_SIZE, k), requires_grad=False)\n",
    "\n",
    "for i in range(SAMPLE_SIZE):\n",
    "    pred_loss = F.binary_cross_entropy(rnd.predictor(pred_data_in[i]), pred_data_out[i])\n",
    "    predictor_opt.zero_grad()\n",
    "    pred_loss.backward()\n",
    "    predictor_opt.step()\n",
    "\n",
    "    target_loss = F.binary_cross_entropy(rnd.target(target_data_in[i]), target_data_out[i])\n",
    "    target_opt.zero_grad()\n",
    "    target_loss.backward()\n",
    "    target_opt.step()\n"
   ]
  },
  {
   "cell_type": "code",
   "execution_count": 216,
   "id": "encouraging-lesson",
   "metadata": {},
   "outputs": [
    {
     "data": {
      "text/plain": [
       "tensor([0.886, 0.367, 0.654, 0.050, 0.502, 0.836, 0.282, 0.284])"
      ]
     },
     "execution_count": 216,
     "metadata": {},
     "output_type": "execute_result"
    }
   ],
   "source": []
  },
  {
   "cell_type": "code",
   "execution_count": 231,
   "id": "timely-cowboy",
   "metadata": {},
   "outputs": [
    {
     "data": {
      "text/plain": [
       "(tensor([[0.999, 0.989, 1.000, 1.000, 0.980, 0.988, 1.000, 0.978, 0.999, 0.960,\n",
       "          1.000, 1.000, 1.000, 1.000, 0.994, 1.000]], grad_fn=<SigmoidBackward>),\n",
       " tensor([[1.436e-08, 3.298e-05, 9.853e-04, 5.727e-07, 6.614e-07, 1.628e-03,\n",
       "          1.466e-03, 5.039e-06, 5.065e-03, 1.142e-07, 9.962e-06, 3.715e-02,\n",
       "          2.460e-08, 8.278e-06, 3.027e-07, 1.130e-02]],\n",
       "        grad_fn=<SigmoidBackward>),\n",
       " tensor([[0.125, 0.122, 0.125, 0.125, 0.120, 0.122, 0.125, 0.120, 0.123, 0.115,\n",
       "          0.125, 0.116, 0.125, 0.125, 0.123, 0.122]]))"
      ]
     },
     "execution_count": 231,
     "metadata": {},
     "output_type": "execute_result"
    }
   ],
   "source": [
    "rnd(s)"
   ]
  },
  {
   "cell_type": "code",
   "execution_count": 232,
   "id": "ancient-january",
   "metadata": {},
   "outputs": [],
   "source": [
    "#rnd = RND(state_dim = obs_n, k = k)\n",
    "rnd.fix_target()\n",
    "rnd_optimizer = torch.optim.Adam(rnd.predictor.parameters(), lr = 1e-1)\n"
   ]
  },
  {
   "cell_type": "code",
   "execution_count": 233,
   "id": "differential-gauge",
   "metadata": {},
   "outputs": [
    {
     "data": {
      "text/plain": [
       "<matplotlib.legend.Legend at 0x7f294533be10>"
      ]
     },
     "execution_count": 233,
     "metadata": {},
     "output_type": "execute_result"
    },
    {
     "data": {
      "image/png": "[encoded data removed]",
      "text/plain": [
       "<Figure size 432x288 with 1 Axes>"
      ]
     },
     "metadata": {
      "needs_background": "light"
     },
     "output_type": "display_data"
    }
   ],
   "source": [
    "\n",
    "\n",
    "n_opt = 20\n",
    "\n",
    "ep = 8\n",
    "n = 401\n",
    "path = '../specials/A2CiLSTMRNDPN/_0526_22-30-30/'\n",
    "fn = join(path, 'e{}_n{}'.format(ep, n), 'data.csv')\n",
    "df = pd.read_csv(fn)\n",
    "\n",
    "\n",
    "steps = [1,2,3,4,5]\n",
    "\n",
    "for step in steps:\n",
    "    \n",
    "    features_ns = tl(df.iloc[step,1:].values)\n",
    "\n",
    "    x = features_ns.unsqueeze(0)\n",
    "    xs = torch.repeat_interleave(x, n_opt, dim=0)\n",
    "\n",
    "    r = []\n",
    "\n",
    "    for x_i in xs:\n",
    "        t, p, ri = rnd(x_i)\n",
    "        r.append(ri)\n",
    "        int_loss = F.binary_cross_entropy(p, t.detach())\n",
    "        rnd_optimizer.zero_grad()\n",
    "        int_loss.backward()\n",
    "        rnd_optimizer.step()\n",
    "\n",
    "    plt.plot(r)\n",
    "    \n",
    "plt.legend(steps)"
   ]
  },
  {
   "cell_type": "markdown",
   "id": "revolutionary-ballot",
   "metadata": {},
   "source": [
    "## Close samples. Should be close to zero"
   ]
  },
  {
   "cell_type": "code",
   "execution_count": 89,
   "id": "surgical-atlanta",
   "metadata": {},
   "outputs": [
    {
     "ename": "FileNotFoundError",
     "evalue": "[Errno 2] No such file or directory: '../specials/A2CiLSTMRNDPN/_0526_22-30-30/e3_n110/data.csv'",
     "output_type": "error",
     "traceback": [
      "\u001b[0;31m---------------------------------------------------------------------------\u001b[0m",
      "\u001b[0;31mFileNotFoundError\u001b[0m                         Traceback (most recent call last)",
      "\u001b[0;32m<ipython-input-89-6d54a77db80f>\u001b[0m in \u001b[0;36m<module>\u001b[0;34m\u001b[0m\n\u001b[1;32m      5\u001b[0m \u001b[0mpath\u001b[0m \u001b[0;34m=\u001b[0m \u001b[0;34m'../specials/A2CiLSTMRNDPN/_0526_22-30-30/'\u001b[0m\u001b[0;34m\u001b[0m\u001b[0;34m\u001b[0m\u001b[0m\n\u001b[1;32m      6\u001b[0m \u001b[0mfn\u001b[0m \u001b[0;34m=\u001b[0m \u001b[0mjoin\u001b[0m\u001b[0;34m(\u001b[0m\u001b[0mpath\u001b[0m\u001b[0;34m,\u001b[0m \u001b[0;34m'e{}_n{}'\u001b[0m\u001b[0;34m.\u001b[0m\u001b[0mformat\u001b[0m\u001b[0;34m(\u001b[0m\u001b[0mep\u001b[0m\u001b[0;34m,\u001b[0m \u001b[0mn\u001b[0m\u001b[0;34m)\u001b[0m\u001b[0;34m,\u001b[0m \u001b[0;34m'data.csv'\u001b[0m\u001b[0;34m)\u001b[0m\u001b[0;34m\u001b[0m\u001b[0;34m\u001b[0m\u001b[0m\n\u001b[0;32m----> 7\u001b[0;31m \u001b[0mdf\u001b[0m \u001b[0;34m=\u001b[0m \u001b[0mpd\u001b[0m\u001b[0;34m.\u001b[0m\u001b[0mread_csv\u001b[0m\u001b[0;34m(\u001b[0m\u001b[0mfn\u001b[0m\u001b[0;34m)\u001b[0m\u001b[0;34m\u001b[0m\u001b[0;34m\u001b[0m\u001b[0m\n\u001b[0m\u001b[1;32m      8\u001b[0m \u001b[0;34m\u001b[0m\u001b[0m\n\u001b[1;32m      9\u001b[0m \u001b[0;34m\u001b[0m\u001b[0m\n",
      "\u001b[0;32m~/.local/lib/python3.6/site-packages/pandas/io/parsers.py\u001b[0m in \u001b[0;36mread_csv\u001b[0;34m(filepath_or_buffer, sep, delimiter, header, names, index_col, usecols, squeeze, prefix, mangle_dupe_cols, dtype, engine, converters, true_values, false_values, skipinitialspace, skiprows, skipfooter, nrows, na_values, keep_default_na, na_filter, verbose, skip_blank_lines, parse_dates, infer_datetime_format, keep_date_col, date_parser, dayfirst, cache_dates, iterator, chunksize, compression, thousands, decimal, lineterminator, quotechar, quoting, doublequote, escapechar, comment, encoding, dialect, error_bad_lines, warn_bad_lines, delim_whitespace, low_memory, memory_map, float_precision)\u001b[0m\n\u001b[1;32m    686\u001b[0m     )\n\u001b[1;32m    687\u001b[0m \u001b[0;34m\u001b[0m\u001b[0m\n\u001b[0;32m--> 688\u001b[0;31m     \u001b[0;32mreturn\u001b[0m \u001b[0m_read\u001b[0m\u001b[0;34m(\u001b[0m\u001b[0mfilepath_or_buffer\u001b[0m\u001b[0;34m,\u001b[0m \u001b[0mkwds\u001b[0m\u001b[0;34m)\u001b[0m\u001b[0;34m\u001b[0m\u001b[0;34m\u001b[0m\u001b[0m\n\u001b[0m\u001b[1;32m    689\u001b[0m \u001b[0;34m\u001b[0m\u001b[0m\n\u001b[1;32m    690\u001b[0m \u001b[0;34m\u001b[0m\u001b[0m\n",
      "\u001b[0;32m~/.local/lib/python3.6/site-packages/pandas/io/parsers.py\u001b[0m in \u001b[0;36m_read\u001b[0;34m(filepath_or_buffer, kwds)\u001b[0m\n\u001b[1;32m    452\u001b[0m \u001b[0;34m\u001b[0m\u001b[0m\n\u001b[1;32m    453\u001b[0m     \u001b[0;31m# Create the parser.\u001b[0m\u001b[0;34m\u001b[0m\u001b[0;34m\u001b[0m\u001b[0;34m\u001b[0m\u001b[0m\n\u001b[0;32m--> 454\u001b[0;31m     \u001b[0mparser\u001b[0m \u001b[0;34m=\u001b[0m \u001b[0mTextFileReader\u001b[0m\u001b[0;34m(\u001b[0m\u001b[0mfp_or_buf\u001b[0m\u001b[0;34m,\u001b[0m \u001b[0;34m**\u001b[0m\u001b[0mkwds\u001b[0m\u001b[0;34m)\u001b[0m\u001b[0;34m\u001b[0m\u001b[0;34m\u001b[0m\u001b[0m\n\u001b[0m\u001b[1;32m    455\u001b[0m \u001b[0;34m\u001b[0m\u001b[0m\n\u001b[1;32m    456\u001b[0m     \u001b[0;32mif\u001b[0m \u001b[0mchunksize\u001b[0m \u001b[0;32mor\u001b[0m \u001b[0miterator\u001b[0m\u001b[0;34m:\u001b[0m\u001b[0;34m\u001b[0m\u001b[0;34m\u001b[0m\u001b[0m\n",
      "\u001b[0;32m~/.local/lib/python3.6/site-packages/pandas/io/parsers.py\u001b[0m in \u001b[0;36m__init__\u001b[0;34m(self, f, engine, **kwds)\u001b[0m\n\u001b[1;32m    946\u001b[0m             \u001b[0mself\u001b[0m\u001b[0;34m.\u001b[0m\u001b[0moptions\u001b[0m\u001b[0;34m[\u001b[0m\u001b[0;34m\"has_index_names\"\u001b[0m\u001b[0;34m]\u001b[0m \u001b[0;34m=\u001b[0m \u001b[0mkwds\u001b[0m\u001b[0;34m[\u001b[0m\u001b[0;34m\"has_index_names\"\u001b[0m\u001b[0;34m]\u001b[0m\u001b[0;34m\u001b[0m\u001b[0;34m\u001b[0m\u001b[0m\n\u001b[1;32m    947\u001b[0m \u001b[0;34m\u001b[0m\u001b[0m\n\u001b[0;32m--> 948\u001b[0;31m         \u001b[0mself\u001b[0m\u001b[0;34m.\u001b[0m\u001b[0m_make_engine\u001b[0m\u001b[0;34m(\u001b[0m\u001b[0mself\u001b[0m\u001b[0;34m.\u001b[0m\u001b[0mengine\u001b[0m\u001b[0;34m)\u001b[0m\u001b[0;34m\u001b[0m\u001b[0;34m\u001b[0m\u001b[0m\n\u001b[0m\u001b[1;32m    949\u001b[0m \u001b[0;34m\u001b[0m\u001b[0m\n\u001b[1;32m    950\u001b[0m     \u001b[0;32mdef\u001b[0m \u001b[0mclose\u001b[0m\u001b[0;34m(\u001b[0m\u001b[0mself\u001b[0m\u001b[0;34m)\u001b[0m\u001b[0;34m:\u001b[0m\u001b[0;34m\u001b[0m\u001b[0;34m\u001b[0m\u001b[0m\n",
      "\u001b[0;32m~/.local/lib/python3.6/site-packages/pandas/io/parsers.py\u001b[0m in \u001b[0;36m_make_engine\u001b[0;34m(self, engine)\u001b[0m\n\u001b[1;32m   1178\u001b[0m     \u001b[0;32mdef\u001b[0m \u001b[0m_make_engine\u001b[0m\u001b[0;34m(\u001b[0m\u001b[0mself\u001b[0m\u001b[0;34m,\u001b[0m \u001b[0mengine\u001b[0m\u001b[0;34m=\u001b[0m\u001b[0;34m\"c\"\u001b[0m\u001b[0;34m)\u001b[0m\u001b[0;34m:\u001b[0m\u001b[0;34m\u001b[0m\u001b[0;34m\u001b[0m\u001b[0m\n\u001b[1;32m   1179\u001b[0m         \u001b[0;32mif\u001b[0m \u001b[0mengine\u001b[0m \u001b[0;34m==\u001b[0m \u001b[0;34m\"c\"\u001b[0m\u001b[0;34m:\u001b[0m\u001b[0;34m\u001b[0m\u001b[0;34m\u001b[0m\u001b[0m\n\u001b[0;32m-> 1180\u001b[0;31m             \u001b[0mself\u001b[0m\u001b[0;34m.\u001b[0m\u001b[0m_engine\u001b[0m \u001b[0;34m=\u001b[0m \u001b[0mCParserWrapper\u001b[0m\u001b[0;34m(\u001b[0m\u001b[0mself\u001b[0m\u001b[0;34m.\u001b[0m\u001b[0mf\u001b[0m\u001b[0;34m,\u001b[0m \u001b[0;34m**\u001b[0m\u001b[0mself\u001b[0m\u001b[0;34m.\u001b[0m\u001b[0moptions\u001b[0m\u001b[0;34m)\u001b[0m\u001b[0;34m\u001b[0m\u001b[0;34m\u001b[0m\u001b[0m\n\u001b[0m\u001b[1;32m   1181\u001b[0m         \u001b[0;32melse\u001b[0m\u001b[0;34m:\u001b[0m\u001b[0;34m\u001b[0m\u001b[0;34m\u001b[0m\u001b[0m\n\u001b[1;32m   1182\u001b[0m             \u001b[0;32mif\u001b[0m \u001b[0mengine\u001b[0m \u001b[0;34m==\u001b[0m \u001b[0;34m\"python\"\u001b[0m\u001b[0;34m:\u001b[0m\u001b[0;34m\u001b[0m\u001b[0;34m\u001b[0m\u001b[0m\n",
      "\u001b[0;32m~/.local/lib/python3.6/site-packages/pandas/io/parsers.py\u001b[0m in \u001b[0;36m__init__\u001b[0;34m(self, src, **kwds)\u001b[0m\n\u001b[1;32m   2008\u001b[0m         \u001b[0mkwds\u001b[0m\u001b[0;34m[\u001b[0m\u001b[0;34m\"usecols\"\u001b[0m\u001b[0;34m]\u001b[0m \u001b[0;34m=\u001b[0m \u001b[0mself\u001b[0m\u001b[0;34m.\u001b[0m\u001b[0musecols\u001b[0m\u001b[0;34m\u001b[0m\u001b[0;34m\u001b[0m\u001b[0m\n\u001b[1;32m   2009\u001b[0m \u001b[0;34m\u001b[0m\u001b[0m\n\u001b[0;32m-> 2010\u001b[0;31m         \u001b[0mself\u001b[0m\u001b[0;34m.\u001b[0m\u001b[0m_reader\u001b[0m \u001b[0;34m=\u001b[0m \u001b[0mparsers\u001b[0m\u001b[0;34m.\u001b[0m\u001b[0mTextReader\u001b[0m\u001b[0;34m(\u001b[0m\u001b[0msrc\u001b[0m\u001b[0;34m,\u001b[0m \u001b[0;34m**\u001b[0m\u001b[0mkwds\u001b[0m\u001b[0;34m)\u001b[0m\u001b[0;34m\u001b[0m\u001b[0;34m\u001b[0m\u001b[0m\n\u001b[0m\u001b[1;32m   2011\u001b[0m         \u001b[0mself\u001b[0m\u001b[0;34m.\u001b[0m\u001b[0munnamed_cols\u001b[0m \u001b[0;34m=\u001b[0m \u001b[0mself\u001b[0m\u001b[0;34m.\u001b[0m\u001b[0m_reader\u001b[0m\u001b[0;34m.\u001b[0m\u001b[0munnamed_cols\u001b[0m\u001b[0;34m\u001b[0m\u001b[0;34m\u001b[0m\u001b[0m\n\u001b[1;32m   2012\u001b[0m \u001b[0;34m\u001b[0m\u001b[0m\n",
      "\u001b[0;32mpandas/_libs/parsers.pyx\u001b[0m in \u001b[0;36mpandas._libs.parsers.TextReader.__cinit__\u001b[0;34m()\u001b[0m\n",
      "\u001b[0;32mpandas/_libs/parsers.pyx\u001b[0m in \u001b[0;36mpandas._libs.parsers.TextReader._setup_parser_source\u001b[0;34m()\u001b[0m\n",
      "\u001b[0;31mFileNotFoundError\u001b[0m: [Errno 2] No such file or directory: '../specials/A2CiLSTMRNDPN/_0526_22-30-30/e3_n110/data.csv'"
     ]
    }
   ],
   "source": [
    "n_opt = 20\n",
    "\n",
    "ep = 3\n",
    "n = 110\n",
    "path = '../specials/A2CiLSTMRNDPN/_0526_22-30-30/'\n",
    "fn = join(path, 'e{}_n{}'.format(ep, n), 'data.csv')\n",
    "df = pd.read_csv(fn)\n",
    "\n",
    "\n",
    "steps = [1,2,3,4,5]\n",
    "\n",
    "for step in steps:\n",
    "    features_ns = tl(df.iloc[step,1:].values)\n",
    "\n",
    "    x = features_ns.unsqueeze(0)\n",
    "    xs = torch.repeat_interleave(x, n_opt, dim=0)\n",
    "\n",
    "    r = []\n",
    "\n",
    "    for x_i in xs:\n",
    "        t, p, ri = rnd(x_i)\n",
    "        r.append(ri)\n",
    "        int_loss = F.binary_cross_entropy(p, t.detach())\n",
    "        rnd_optimizer.zero_grad()\n",
    "        int_loss.backward()\n",
    "        rnd_optimizer.step()\n",
    "\n",
    "    plt.plot(r)\n",
    "    \n",
    "plt.legend(steps)"
   ]
  },
  {
   "cell_type": "markdown",
   "id": "relevant-heaven",
   "metadata": {},
   "source": [
    "## Close sample sample. See how is the distribution"
   ]
  },
  {
   "cell_type": "code",
   "execution_count": 89,
   "id": "pursuant-madagascar",
   "metadata": {},
   "outputs": [
    {
     "data": {
      "text/plain": [
       "<matplotlib.legend.Legend at 0x7f5f669c2f98>"
      ]
     },
     "execution_count": 89,
     "metadata": {},
     "output_type": "execute_result"
    },
    {
     "data": {
      "image/png": "[encoded data removed]",
      "text/plain": [
       "<Figure size 432x288 with 1 Axes>"
      ]
     },
     "metadata": {
      "needs_background": "light"
     },
     "output_type": "display_data"
    }
   ],
   "source": [
    "\n",
    "n_opt = 20\n",
    "\n",
    "ep = 3\n",
    "n = 110\n",
    "path = '../specials/A2CiLSTMRNDPN/_0512_20-47-05/'\n",
    "fn = join(path, 'e{}_n{}'.format(ep, n), 'data.csv')\n",
    "df = pd.read_csv(fn)\n",
    "\n",
    "\n",
    "steps = [1,1,1,1,1,1,1,1,1,1]\n",
    "\n",
    "for step in steps:\n",
    "    features_ns = tl(df.iloc[step,1:].values)\n",
    "\n",
    "    x = features_ns.unsqueeze(0)\n",
    "    xs = torch.repeat_interleave(x, n_opt, dim=0)\n",
    "    rnd = RND(state_dim = 288)\n",
    "    rnd_optimizer = torch.optim.Adam(rnd.predictor.parameters(), lr = 1e-1)\n",
    "\n",
    "    r = []\n",
    "\n",
    "    for x_i in xs:\n",
    "        t, p, ri = rnd(x_i)\n",
    "        r.append(ri)\n",
    "        int_loss = F.binary_cross_entropy(p, t.detach())\n",
    "        rnd_optimizer.zero_grad()\n",
    "        int_loss.backward()\n",
    "        rnd_optimizer.step()\n",
    "\n",
    "    plt.plot(r)\n",
    "    \n",
    "plt.legend(steps)"
   ]
  },
  {
   "cell_type": "markdown",
   "id": "sharing-spring",
   "metadata": {},
   "source": [
    "## Samples from different episodes. Should be different."
   ]
  },
  {
   "cell_type": "code",
   "execution_count": 234,
   "id": "assumed-token",
   "metadata": {},
   "outputs": [
    {
     "data": {
      "text/plain": [
       "<matplotlib.legend.Legend at 0x7f294521ae48>"
      ]
     },
     "execution_count": 234,
     "metadata": {},
     "output_type": "execute_result"
    },
    {
     "data": {
      "image/png": "[encoded data removed]",
      "text/plain": [
       "<Figure size 432x288 with 1 Axes>"
      ]
     },
     "metadata": {
      "needs_background": "light"
     },
     "output_type": "display_data"
    }
   ],
   "source": [
    "#rnd = RND(state_dim = 288)\n",
    "#rnd_optimizer = torch.optim.Adam(rnd.predictor.parameters(), lr = 1e-1 )\n",
    "n_opt = 30\n",
    "\n",
    "ep = 3\n",
    "path = '../specials/A2CiLSTMRNDPN/_0526_22-30-30/'\n",
    "\n",
    "\n",
    "ns = [401,401,401,401,401,401,401,401]# 67,8,89,110,30,116,201,194]\n",
    "eps = [30,31,32,33,34,35,36,37]\n",
    "\n",
    "\n",
    "f, ax = plt.subplots(1)\n",
    "\n",
    "for ep, n in zip(eps, ns):\n",
    "    fn = join(path, 'e{}_n{}'.format(ep, n), 'data.csv')\n",
    "    df = pd.read_csv(fn)\n",
    "    features_ns = tl(df.iloc[-1,1:].values)\n",
    "\n",
    "    x = features_ns.unsqueeze(0)\n",
    "    xs = torch.repeat_interleave(x, n_opt, dim=0)\n",
    "\n",
    "    r = []\n",
    "\n",
    "    for x_i in xs:\n",
    "        t, p, ri = rnd(x_i)\n",
    "        r.append(ri)\n",
    "        int_loss = F.binary_cross_entropy(p, t.detach())\n",
    "        \n",
    "        rnd_optimizer.zero_grad()\n",
    "        int_loss.backward()\n",
    "        rnd_optimizer.step()\n",
    "\n",
    "    ax.plot(r)\n",
    "    \n",
    "ax.legend(eps)"
   ]
  },
  {
   "cell_type": "code",
   "execution_count": 245,
   "id": "neutral-tiger",
   "metadata": {},
   "outputs": [
    {
     "ename": "RuntimeError",
     "evalue": "size mismatch, m1: [1 x 288], m2: [8 x 128] at /pytorch/aten/src/TH/generic/THTensorMath.cpp:41",
     "output_type": "error",
     "traceback": [
      "\u001b[0;31m---------------------------------------------------------------------------\u001b[0m",
      "\u001b[0;31mRuntimeError\u001b[0m                              Traceback (most recent call last)",
      "\u001b[0;32m<ipython-input-245-30dd5281e735>\u001b[0m in \u001b[0;36m<module>\u001b[0;34m\u001b[0m\n\u001b[1;32m      1\u001b[0m \u001b[0mx\u001b[0m \u001b[0;34m=\u001b[0m \u001b[0mtorch\u001b[0m\u001b[0;34m.\u001b[0m\u001b[0mrand\u001b[0m\u001b[0;34m(\u001b[0m\u001b[0;36m288\u001b[0m\u001b[0;34m)\u001b[0m\u001b[0;34m\u001b[0m\u001b[0;34m\u001b[0m\u001b[0m\n\u001b[0;32m----> 2\u001b[0;31m \u001b[0mrnd\u001b[0m\u001b[0;34m(\u001b[0m\u001b[0mx\u001b[0m\u001b[0;34m)\u001b[0m\u001b[0;34m\u001b[0m\u001b[0;34m\u001b[0m\u001b[0m\n\u001b[0m",
      "\u001b[0;32m~/.local/lib/python3.6/site-packages/torch/nn/modules/module.py\u001b[0m in \u001b[0;36m__call__\u001b[0;34m(self, *input, **kwargs)\u001b[0m\n\u001b[1;32m    548\u001b[0m             \u001b[0mresult\u001b[0m \u001b[0;34m=\u001b[0m \u001b[0mself\u001b[0m\u001b[0;34m.\u001b[0m\u001b[0m_slow_forward\u001b[0m\u001b[0;34m(\u001b[0m\u001b[0;34m*\u001b[0m\u001b[0minput\u001b[0m\u001b[0;34m,\u001b[0m \u001b[0;34m**\u001b[0m\u001b[0mkwargs\u001b[0m\u001b[0;34m)\u001b[0m\u001b[0;34m\u001b[0m\u001b[0;34m\u001b[0m\u001b[0m\n\u001b[1;32m    549\u001b[0m         \u001b[0;32melse\u001b[0m\u001b[0;34m:\u001b[0m\u001b[0;34m\u001b[0m\u001b[0;34m\u001b[0m\u001b[0m\n\u001b[0;32m--> 550\u001b[0;31m             \u001b[0mresult\u001b[0m \u001b[0;34m=\u001b[0m \u001b[0mself\u001b[0m\u001b[0;34m.\u001b[0m\u001b[0mforward\u001b[0m\u001b[0;34m(\u001b[0m\u001b[0;34m*\u001b[0m\u001b[0minput\u001b[0m\u001b[0;34m,\u001b[0m \u001b[0;34m**\u001b[0m\u001b[0mkwargs\u001b[0m\u001b[0;34m)\u001b[0m\u001b[0;34m\u001b[0m\u001b[0;34m\u001b[0m\u001b[0m\n\u001b[0m\u001b[1;32m    551\u001b[0m         \u001b[0;32mfor\u001b[0m \u001b[0mhook\u001b[0m \u001b[0;32min\u001b[0m \u001b[0mself\u001b[0m\u001b[0;34m.\u001b[0m\u001b[0m_forward_hooks\u001b[0m\u001b[0;34m.\u001b[0m\u001b[0mvalues\u001b[0m\u001b[0;34m(\u001b[0m\u001b[0;34m)\u001b[0m\u001b[0;34m:\u001b[0m\u001b[0;34m\u001b[0m\u001b[0;34m\u001b[0m\u001b[0m\n\u001b[1;32m    552\u001b[0m             \u001b[0mhook_result\u001b[0m \u001b[0;34m=\u001b[0m \u001b[0mhook\u001b[0m\u001b[0;34m(\u001b[0m\u001b[0mself\u001b[0m\u001b[0;34m,\u001b[0m \u001b[0minput\u001b[0m\u001b[0;34m,\u001b[0m \u001b[0mresult\u001b[0m\u001b[0;34m)\u001b[0m\u001b[0;34m\u001b[0m\u001b[0;34m\u001b[0m\u001b[0m\n",
      "\u001b[0;32m<ipython-input-223-fc9b6805148a>\u001b[0m in \u001b[0;36mforward\u001b[0;34m(self, x)\u001b[0m\n\u001b[1;32m     42\u001b[0m \u001b[0;34m\u001b[0m\u001b[0m\n\u001b[1;32m     43\u001b[0m     \u001b[0;32mdef\u001b[0m \u001b[0mforward\u001b[0m\u001b[0;34m(\u001b[0m\u001b[0mself\u001b[0m\u001b[0;34m,\u001b[0m \u001b[0mx\u001b[0m\u001b[0;34m)\u001b[0m\u001b[0;34m:\u001b[0m\u001b[0;34m\u001b[0m\u001b[0;34m\u001b[0m\u001b[0m\n\u001b[0;32m---> 44\u001b[0;31m         \u001b[0mto\u001b[0m \u001b[0;34m=\u001b[0m \u001b[0mself\u001b[0m\u001b[0;34m.\u001b[0m\u001b[0mtarget\u001b[0m\u001b[0;34m(\u001b[0m\u001b[0mx\u001b[0m\u001b[0;34m)\u001b[0m\u001b[0;34m\u001b[0m\u001b[0;34m\u001b[0m\u001b[0m\n\u001b[0m\u001b[1;32m     45\u001b[0m         \u001b[0mpo\u001b[0m \u001b[0;34m=\u001b[0m \u001b[0mself\u001b[0m\u001b[0;34m.\u001b[0m\u001b[0mpredictor\u001b[0m\u001b[0;34m(\u001b[0m\u001b[0mx\u001b[0m\u001b[0;34m)\u001b[0m\u001b[0;34m\u001b[0m\u001b[0;34m\u001b[0m\u001b[0m\n\u001b[1;32m     46\u001b[0m \u001b[0;34m\u001b[0m\u001b[0m\n",
      "\u001b[0;32m~/.local/lib/python3.6/site-packages/torch/nn/modules/module.py\u001b[0m in \u001b[0;36m__call__\u001b[0;34m(self, *input, **kwargs)\u001b[0m\n\u001b[1;32m    548\u001b[0m             \u001b[0mresult\u001b[0m \u001b[0;34m=\u001b[0m \u001b[0mself\u001b[0m\u001b[0;34m.\u001b[0m\u001b[0m_slow_forward\u001b[0m\u001b[0;34m(\u001b[0m\u001b[0;34m*\u001b[0m\u001b[0minput\u001b[0m\u001b[0;34m,\u001b[0m \u001b[0;34m**\u001b[0m\u001b[0mkwargs\u001b[0m\u001b[0;34m)\u001b[0m\u001b[0;34m\u001b[0m\u001b[0;34m\u001b[0m\u001b[0m\n\u001b[1;32m    549\u001b[0m         \u001b[0;32melse\u001b[0m\u001b[0;34m:\u001b[0m\u001b[0;34m\u001b[0m\u001b[0;34m\u001b[0m\u001b[0m\n\u001b[0;32m--> 550\u001b[0;31m             \u001b[0mresult\u001b[0m \u001b[0;34m=\u001b[0m \u001b[0mself\u001b[0m\u001b[0;34m.\u001b[0m\u001b[0mforward\u001b[0m\u001b[0;34m(\u001b[0m\u001b[0;34m*\u001b[0m\u001b[0minput\u001b[0m\u001b[0;34m,\u001b[0m \u001b[0;34m**\u001b[0m\u001b[0mkwargs\u001b[0m\u001b[0;34m)\u001b[0m\u001b[0;34m\u001b[0m\u001b[0;34m\u001b[0m\u001b[0m\n\u001b[0m\u001b[1;32m    551\u001b[0m         \u001b[0;32mfor\u001b[0m \u001b[0mhook\u001b[0m \u001b[0;32min\u001b[0m \u001b[0mself\u001b[0m\u001b[0;34m.\u001b[0m\u001b[0m_forward_hooks\u001b[0m\u001b[0;34m.\u001b[0m\u001b[0mvalues\u001b[0m\u001b[0;34m(\u001b[0m\u001b[0;34m)\u001b[0m\u001b[0;34m:\u001b[0m\u001b[0;34m\u001b[0m\u001b[0;34m\u001b[0m\u001b[0m\n\u001b[1;32m    552\u001b[0m             \u001b[0mhook_result\u001b[0m \u001b[0;34m=\u001b[0m \u001b[0mhook\u001b[0m\u001b[0;34m(\u001b[0m\u001b[0mself\u001b[0m\u001b[0;34m,\u001b[0m \u001b[0minput\u001b[0m\u001b[0;34m,\u001b[0m \u001b[0mresult\u001b[0m\u001b[0;34m)\u001b[0m\u001b[0;34m\u001b[0m\u001b[0;34m\u001b[0m\u001b[0m\n",
      "\u001b[0;32m~/.local/lib/python3.6/site-packages/torch/nn/modules/container.py\u001b[0m in \u001b[0;36mforward\u001b[0;34m(self, input)\u001b[0m\n\u001b[1;32m     98\u001b[0m     \u001b[0;32mdef\u001b[0m \u001b[0mforward\u001b[0m\u001b[0;34m(\u001b[0m\u001b[0mself\u001b[0m\u001b[0;34m,\u001b[0m \u001b[0minput\u001b[0m\u001b[0;34m)\u001b[0m\u001b[0;34m:\u001b[0m\u001b[0;34m\u001b[0m\u001b[0;34m\u001b[0m\u001b[0m\n\u001b[1;32m     99\u001b[0m         \u001b[0;32mfor\u001b[0m \u001b[0mmodule\u001b[0m \u001b[0;32min\u001b[0m \u001b[0mself\u001b[0m\u001b[0;34m:\u001b[0m\u001b[0;34m\u001b[0m\u001b[0;34m\u001b[0m\u001b[0m\n\u001b[0;32m--> 100\u001b[0;31m             \u001b[0minput\u001b[0m \u001b[0;34m=\u001b[0m \u001b[0mmodule\u001b[0m\u001b[0;34m(\u001b[0m\u001b[0minput\u001b[0m\u001b[0;34m)\u001b[0m\u001b[0;34m\u001b[0m\u001b[0;34m\u001b[0m\u001b[0m\n\u001b[0m\u001b[1;32m    101\u001b[0m         \u001b[0;32mreturn\u001b[0m \u001b[0minput\u001b[0m\u001b[0;34m\u001b[0m\u001b[0;34m\u001b[0m\u001b[0m\n\u001b[1;32m    102\u001b[0m \u001b[0;34m\u001b[0m\u001b[0m\n",
      "\u001b[0;32m~/.local/lib/python3.6/site-packages/torch/nn/modules/module.py\u001b[0m in \u001b[0;36m__call__\u001b[0;34m(self, *input, **kwargs)\u001b[0m\n\u001b[1;32m    548\u001b[0m             \u001b[0mresult\u001b[0m \u001b[0;34m=\u001b[0m \u001b[0mself\u001b[0m\u001b[0;34m.\u001b[0m\u001b[0m_slow_forward\u001b[0m\u001b[0;34m(\u001b[0m\u001b[0;34m*\u001b[0m\u001b[0minput\u001b[0m\u001b[0;34m,\u001b[0m \u001b[0;34m**\u001b[0m\u001b[0mkwargs\u001b[0m\u001b[0;34m)\u001b[0m\u001b[0;34m\u001b[0m\u001b[0;34m\u001b[0m\u001b[0m\n\u001b[1;32m    549\u001b[0m         \u001b[0;32melse\u001b[0m\u001b[0;34m:\u001b[0m\u001b[0;34m\u001b[0m\u001b[0;34m\u001b[0m\u001b[0m\n\u001b[0;32m--> 550\u001b[0;31m             \u001b[0mresult\u001b[0m \u001b[0;34m=\u001b[0m \u001b[0mself\u001b[0m\u001b[0;34m.\u001b[0m\u001b[0mforward\u001b[0m\u001b[0;34m(\u001b[0m\u001b[0;34m*\u001b[0m\u001b[0minput\u001b[0m\u001b[0;34m,\u001b[0m \u001b[0;34m**\u001b[0m\u001b[0mkwargs\u001b[0m\u001b[0;34m)\u001b[0m\u001b[0;34m\u001b[0m\u001b[0;34m\u001b[0m\u001b[0m\n\u001b[0m\u001b[1;32m    551\u001b[0m         \u001b[0;32mfor\u001b[0m \u001b[0mhook\u001b[0m \u001b[0;32min\u001b[0m \u001b[0mself\u001b[0m\u001b[0;34m.\u001b[0m\u001b[0m_forward_hooks\u001b[0m\u001b[0;34m.\u001b[0m\u001b[0mvalues\u001b[0m\u001b[0;34m(\u001b[0m\u001b[0;34m)\u001b[0m\u001b[0;34m:\u001b[0m\u001b[0;34m\u001b[0m\u001b[0;34m\u001b[0m\u001b[0m\n\u001b[1;32m    552\u001b[0m             \u001b[0mhook_result\u001b[0m \u001b[0;34m=\u001b[0m \u001b[0mhook\u001b[0m\u001b[0;34m(\u001b[0m\u001b[0mself\u001b[0m\u001b[0;34m,\u001b[0m \u001b[0minput\u001b[0m\u001b[0;34m,\u001b[0m \u001b[0mresult\u001b[0m\u001b[0;34m)\u001b[0m\u001b[0;34m\u001b[0m\u001b[0;34m\u001b[0m\u001b[0m\n",
      "\u001b[0;32m~/.local/lib/python3.6/site-packages/torch/nn/modules/linear.py\u001b[0m in \u001b[0;36mforward\u001b[0;34m(self, input)\u001b[0m\n\u001b[1;32m     85\u001b[0m \u001b[0;34m\u001b[0m\u001b[0m\n\u001b[1;32m     86\u001b[0m     \u001b[0;32mdef\u001b[0m \u001b[0mforward\u001b[0m\u001b[0;34m(\u001b[0m\u001b[0mself\u001b[0m\u001b[0;34m,\u001b[0m \u001b[0minput\u001b[0m\u001b[0;34m)\u001b[0m\u001b[0;34m:\u001b[0m\u001b[0;34m\u001b[0m\u001b[0;34m\u001b[0m\u001b[0m\n\u001b[0;32m---> 87\u001b[0;31m         \u001b[0;32mreturn\u001b[0m \u001b[0mF\u001b[0m\u001b[0;34m.\u001b[0m\u001b[0mlinear\u001b[0m\u001b[0;34m(\u001b[0m\u001b[0minput\u001b[0m\u001b[0;34m,\u001b[0m \u001b[0mself\u001b[0m\u001b[0;34m.\u001b[0m\u001b[0mweight\u001b[0m\u001b[0;34m,\u001b[0m \u001b[0mself\u001b[0m\u001b[0;34m.\u001b[0m\u001b[0mbias\u001b[0m\u001b[0;34m)\u001b[0m\u001b[0;34m\u001b[0m\u001b[0;34m\u001b[0m\u001b[0m\n\u001b[0m\u001b[1;32m     88\u001b[0m \u001b[0;34m\u001b[0m\u001b[0m\n\u001b[1;32m     89\u001b[0m     \u001b[0;32mdef\u001b[0m \u001b[0mextra_repr\u001b[0m\u001b[0;34m(\u001b[0m\u001b[0mself\u001b[0m\u001b[0;34m)\u001b[0m\u001b[0;34m:\u001b[0m\u001b[0;34m\u001b[0m\u001b[0;34m\u001b[0m\u001b[0m\n",
      "\u001b[0;32m~/.local/lib/python3.6/site-packages/torch/nn/functional.py\u001b[0m in \u001b[0;36mlinear\u001b[0;34m(input, weight, bias)\u001b[0m\n\u001b[1;32m   1610\u001b[0m         \u001b[0mret\u001b[0m \u001b[0;34m=\u001b[0m \u001b[0mtorch\u001b[0m\u001b[0;34m.\u001b[0m\u001b[0maddmm\u001b[0m\u001b[0;34m(\u001b[0m\u001b[0mbias\u001b[0m\u001b[0;34m,\u001b[0m \u001b[0minput\u001b[0m\u001b[0;34m,\u001b[0m \u001b[0mweight\u001b[0m\u001b[0;34m.\u001b[0m\u001b[0mt\u001b[0m\u001b[0;34m(\u001b[0m\u001b[0;34m)\u001b[0m\u001b[0;34m)\u001b[0m\u001b[0;34m\u001b[0m\u001b[0;34m\u001b[0m\u001b[0m\n\u001b[1;32m   1611\u001b[0m     \u001b[0;32melse\u001b[0m\u001b[0;34m:\u001b[0m\u001b[0;34m\u001b[0m\u001b[0;34m\u001b[0m\u001b[0m\n\u001b[0;32m-> 1612\u001b[0;31m         \u001b[0moutput\u001b[0m \u001b[0;34m=\u001b[0m \u001b[0minput\u001b[0m\u001b[0;34m.\u001b[0m\u001b[0mmatmul\u001b[0m\u001b[0;34m(\u001b[0m\u001b[0mweight\u001b[0m\u001b[0;34m.\u001b[0m\u001b[0mt\u001b[0m\u001b[0;34m(\u001b[0m\u001b[0;34m)\u001b[0m\u001b[0;34m)\u001b[0m\u001b[0;34m\u001b[0m\u001b[0;34m\u001b[0m\u001b[0m\n\u001b[0m\u001b[1;32m   1613\u001b[0m         \u001b[0;32mif\u001b[0m \u001b[0mbias\u001b[0m \u001b[0;32mis\u001b[0m \u001b[0;32mnot\u001b[0m \u001b[0;32mNone\u001b[0m\u001b[0;34m:\u001b[0m\u001b[0;34m\u001b[0m\u001b[0;34m\u001b[0m\u001b[0m\n\u001b[1;32m   1614\u001b[0m             \u001b[0moutput\u001b[0m \u001b[0;34m+=\u001b[0m \u001b[0mbias\u001b[0m\u001b[0;34m\u001b[0m\u001b[0;34m\u001b[0m\u001b[0m\n",
      "\u001b[0;31mRuntimeError\u001b[0m: size mismatch, m1: [1 x 288], m2: [8 x 128] at /pytorch/aten/src/TH/generic/THTensorMath.cpp:41"
     ]
    }
   ],
   "source": [
    "x = torch.rand(288)\n",
    "rnd(x)"
   ]
  },
  {
   "cell_type": "code",
   "execution_count": 363,
   "id": "certain-playlist",
   "metadata": {},
   "outputs": [],
   "source": [
    "class Regressor(nn.Module):\n",
    "    def __init__(self, state_dim = 16, k = 16):\n",
    "        super(Regressor, self).__init__()\n",
    "\n",
    "        self.regressor =   nn.Sequential(\n",
    "                            nn.Linear(1, 500),                   nn.Sigmoid(),\n",
    "                            #nn.Linear(16, 16),                   nn.Sigmoid(),\n",
    "                            #nn.Linear(16, 16),                   nn.Sigmoid(),\n",
    "                            nn.Linear(500, 1)\n",
    "                            )\n",
    "\n",
    "    def forward(self, x):\n",
    "        return self.regressor(x)"
   ]
  },
  {
   "cell_type": "code",
   "execution_count": 364,
   "id": "sensitive-guatemala",
   "metadata": {},
   "outputs": [],
   "source": [
    "reg = Regressor()\n",
    "reg_opt = torch.optim.SGD(reg.parameters(), lr = 1e-2 )"
   ]
  },
  {
   "cell_type": "code",
   "execution_count": 292,
   "id": "devoted-secretary",
   "metadata": {},
   "outputs": [],
   "source": [
    "x = np.linspace(-5,5,500)\n",
    "y = 0.5*x**2 + -(x+3)**2 + 5*np.sin(4*x)"
   ]
  },
  {
   "cell_type": "code",
   "execution_count": 211,
   "id": "educated-antigua",
   "metadata": {},
   "outputs": [
    {
     "data": {
      "text/plain": [
       "[<matplotlib.lines.Line2D at 0x7f67b245b208>]"
      ]
     },
     "execution_count": 211,
     "metadata": {},
     "output_type": "execute_result"
    },
    {
     "data": {
      "image/png": "[encoded data removed]",
      "text/plain": [
       "<Figure size 432x288 with 1 Axes>"
      ]
     },
     "metadata": {
      "needs_background": "light"
     },
     "output_type": "display_data"
    }
   ],
   "source": [
    "plt.plot(x,y)"
   ]
  },
  {
   "cell_type": "code",
   "execution_count": 365,
   "id": "located-briefs",
   "metadata": {},
   "outputs": [],
   "source": [
    "ix = list(range(30)) + list(range(200,300))#random.sample(range(500),20)\n",
    "xts = tl(x[ix])\n",
    "yts = tl(y[ix])"
   ]
  },
  {
   "cell_type": "code",
   "execution_count": 358,
   "id": "dense-roads",
   "metadata": {},
   "outputs": [],
   "source": [
    "    \n",
    "for x_i in xs:\n",
    "    t, p, ri = rnd(x_i)\n",
    "    r.append(ri)\n",
    "    int_loss = F.binary_cross_entropy(p, t.detach())\n",
    "    rnd_optimizer.zero_grad()\n",
    "    int_loss.backward()\n",
    "    rnd_optimizer.step()"
   ]
  },
  {
   "cell_type": "code",
   "execution_count": 366,
   "id": "improved-adams",
   "metadata": {},
   "outputs": [
    {
     "name": "stderr",
     "output_type": "stream",
     "text": [
      "/home/emanuelsamir/.local/lib/python3.6/site-packages/ipykernel_launcher.py:5: UserWarning: Using a target size (torch.Size([])) that is different to the input size (torch.Size([1])). This will likely lead to incorrect results due to broadcasting. Please ensure they have the same size.\n",
      "  \"\"\"\n"
     ]
    }
   ],
   "source": [
    "ls = []\n",
    "for _ in range(40):\n",
    "    for xt, yt in zip(xts, yts):\n",
    "        yh = reg(xt.unsqueeze(0))\n",
    "        loss = F.mse_loss(yh, yt)\n",
    "        ls.append(loss.detach())\n",
    "        reg_opt.zero_grad()\n",
    "        loss.backward()\n",
    "        reg_opt.step()"
   ]
  },
  {
   "cell_type": "code",
   "execution_count": 367,
   "id": "immediate-cheese",
   "metadata": {},
   "outputs": [
    {
     "data": {
      "text/plain": [
       "[<matplotlib.lines.Line2D at 0x7f67b84500f0>]"
      ]
     },
     "execution_count": 367,
     "metadata": {},
     "output_type": "execute_result"
    },
    {
     "data": {
      "image/png": "[encoded data removed]",
      "text/plain": [
       "<Figure size 432x288 with 1 Axes>"
      ]
     },
     "metadata": {
      "needs_background": "light"
     },
     "output_type": "display_data"
    }
   ],
   "source": [
    "plt.plot(ls)"
   ]
  },
  {
   "cell_type": "code",
   "execution_count": 368,
   "id": "organizational-indie",
   "metadata": {},
   "outputs": [],
   "source": [
    "yh = reg(tl(x).unsqueeze(1))\n",
    "yh = yh.detach().numpy().squeeze()"
   ]
  },
  {
   "cell_type": "code",
   "execution_count": 369,
   "id": "affecting-broadway",
   "metadata": {},
   "outputs": [
    {
     "data": {
      "text/plain": [
       "[<matplotlib.lines.Line2D at 0x7f67b85dc0b8>]"
      ]
     },
     "execution_count": 369,
     "metadata": {},
     "output_type": "execute_result"
    },
    {
     "data": {
      "image/png": "[encoded data removed]",
      "text/plain": [
       "<Figure size 432x288 with 1 Axes>"
      ]
     },
     "metadata": {
      "needs_background": "light"
     },
     "output_type": "display_data"
    }
   ],
   "source": [
    "plt.plot(x,y)\n",
    "plt.plot(x,yh)"
   ]
  },
  {
   "cell_type": "code",
   "execution_count": 244,
   "id": "optical-intermediate",
   "metadata": {},
   "outputs": [
    {
     "data": {
      "text/plain": [
       "array([0.04400553, 0.04400091, 0.04399611, 0.04399119, 0.04398616,\n",
       "       0.04398091, 0.04397552, 0.04396994, 0.04396419, 0.04395835,\n",
       "       0.04395221, 0.04394601, 0.04393958, 0.04393305, 0.04392628,\n",
       "       0.04391928, 0.04391219, 0.04390486, 0.04389744, 0.04388975,\n",
       "       0.04388182, 0.04387386, 0.04386558, 0.0438572 , 0.04384853,\n",
       "       0.04383971, 0.04383071, 0.04382147, 0.04381205, 0.04380246,\n",
       "       0.04379262, 0.04378258, 0.04377232, 0.04376186, 0.04375117,\n",
       "       0.04374026, 0.04372914, 0.04371782, 0.04370634, 0.04369451,\n",
       "       0.04368256, 0.04367031, 0.04365785, 0.04364519, 0.04363222,\n",
       "       0.04361911, 0.04360567, 0.04359211, 0.04357828, 0.04356419,\n",
       "       0.04354979, 0.04353516, 0.04352038, 0.04350533, 0.04349001,\n",
       "       0.04347436, 0.04345854, 0.04344247, 0.04342608, 0.04340951,\n",
       "       0.04339264, 0.04337551, 0.04335804, 0.04334049, 0.04332249,\n",
       "       0.04330431, 0.04328589, 0.04326709, 0.04324804, 0.04322879,\n",
       "       0.04320918, 0.04318936, 0.04316925, 0.04314886, 0.04312818,\n",
       "       0.04310726, 0.04308601, 0.04306443, 0.04304264, 0.0430205 ,\n",
       "       0.04299806, 0.04297541, 0.04295237, 0.04292916, 0.04290552,\n",
       "       0.04288165, 0.04285748, 0.04283305, 0.04280828, 0.04278319,\n",
       "       0.04275785, 0.04273219, 0.04270624, 0.04267995, 0.0426534 ,\n",
       "       0.04262646, 0.04259931, 0.0425718 , 0.04254402, 0.04251592,\n",
       "       0.04248752, 0.04245876, 0.04242976, 0.0424004 , 0.04237081,\n",
       "       0.04234077, 0.04231052, 0.04228   , 0.04224913, 0.0422179 ,\n",
       "       0.04218639, 0.0421546 , 0.0421225 , 0.04209004, 0.04205729,\n",
       "       0.04202427, 0.04199092, 0.04195721, 0.04192327, 0.04188897,\n",
       "       0.0418544 , 0.0418195 , 0.04178433, 0.04174884, 0.04171304,\n",
       "       0.04167692, 0.04164053, 0.04160379, 0.04156677, 0.04152946,\n",
       "       0.04149185, 0.041454  , 0.04141583, 0.04137726, 0.04133846,\n",
       "       0.04129942, 0.04126005, 0.04122038, 0.04118042, 0.04114021,\n",
       "       0.04109971, 0.04105891, 0.04101788, 0.04097648, 0.04093488,\n",
       "       0.04089294, 0.0408508 , 0.04080839, 0.04076569, 0.04072271,\n",
       "       0.0406795 , 0.04063602, 0.04059224, 0.04054828, 0.04050402,\n",
       "       0.0404595 , 0.04041477, 0.04036982, 0.04032461, 0.04027914,\n",
       "       0.04023348, 0.04018761, 0.04014139, 0.04009511, 0.04004855,\n",
       "       0.04000171, 0.03995471, 0.03990753, 0.03986003, 0.03981237,\n",
       "       0.03976463, 0.03971659, 0.03966846, 0.03961994, 0.03957145,\n",
       "       0.03952266, 0.0394737 , 0.03942464, 0.03937544, 0.039326  ,\n",
       "       0.03927644, 0.0392267 , 0.03917684, 0.0391268 , 0.03907661,\n",
       "       0.03902636, 0.03897594, 0.03892545, 0.03887473, 0.03882404,\n",
       "       0.0387731 , 0.03872217, 0.03867106, 0.03861989, 0.03856866,\n",
       "       0.03851731, 0.03846593, 0.0384144 , 0.03836282, 0.03831117,\n",
       "       0.03825955, 0.03820781, 0.03815605, 0.03810422, 0.03805239,\n",
       "       0.03800057, 0.03794865, 0.03789668, 0.03784485, 0.03779291,\n",
       "       0.03774096, 0.03768905, 0.0376371 , 0.03758527, 0.03753342,\n",
       "       0.0374815 , 0.03742976, 0.037378  , 0.03732629, 0.03727464,\n",
       "       0.03722303, 0.03717153, 0.03712012, 0.03706874, 0.03701745,\n",
       "       0.03696622, 0.03691511, 0.03686406, 0.03681318, 0.03676246,\n",
       "       0.0367118 , 0.03666125, 0.0366108 , 0.03656058, 0.03651045,\n",
       "       0.03646047, 0.03641064, 0.03636102, 0.03631149, 0.03626217,\n",
       "       0.03621306, 0.03616412, 0.0361153 , 0.03606673, 0.03601842,\n",
       "       0.0359702 , 0.0359223 , 0.03587447, 0.03582703, 0.0357797 ,\n",
       "       0.03573261, 0.03568579, 0.03563918, 0.0355929 , 0.03554682,\n",
       "       0.03550096, 0.03545536, 0.03541006, 0.035365  , 0.03532027,\n",
       "       0.0352758 , 0.03523152, 0.03518756, 0.03514396, 0.03510062,\n",
       "       0.03505759, 0.03501485, 0.03497244, 0.03493024, 0.03488846,\n",
       "       0.03484689, 0.03480579, 0.03476487, 0.03472431, 0.03468408,\n",
       "       0.03464414, 0.03460462, 0.0345654 , 0.03452648, 0.03448795,\n",
       "       0.03444974, 0.03441189, 0.03437425, 0.03433706, 0.03430028,\n",
       "       0.03426377, 0.03422765, 0.03419183, 0.03415631, 0.03412123,\n",
       "       0.03408651, 0.03405212, 0.03401817, 0.03398444, 0.03395109,\n",
       "       0.03391813, 0.03388555, 0.03385325, 0.0338213 , 0.03378977,\n",
       "       0.03375863, 0.03372778, 0.03369726, 0.03366722, 0.03363745,\n",
       "       0.03360803, 0.03357895, 0.03355022, 0.03352182, 0.03349386,\n",
       "       0.03346621, 0.03343888, 0.03341185, 0.0333852 , 0.03335895,\n",
       "       0.03333302, 0.03330742, 0.03328212, 0.0332572 , 0.03323264,\n",
       "       0.03320827, 0.03318436, 0.03316079, 0.03313749, 0.03311454,\n",
       "       0.03309192, 0.03306954, 0.03304754, 0.03302591, 0.03300457,\n",
       "       0.03298347, 0.03296278, 0.03294231, 0.03292213, 0.03290229,\n",
       "       0.03288279, 0.03286357, 0.03284465, 0.03282596, 0.0328076 ,\n",
       "       0.03278951, 0.03277172, 0.03275426, 0.03273706, 0.0327201 ,\n",
       "       0.03270341, 0.03268702, 0.0326709 , 0.03265505, 0.0326394 ,\n",
       "       0.03262408, 0.032609  , 0.03259416, 0.03257962, 0.03256531,\n",
       "       0.03255127, 0.03253742, 0.03252386, 0.03251047, 0.03249739,\n",
       "       0.03248458, 0.03247194, 0.0324596 , 0.03244744, 0.03243549,\n",
       "       0.03242372, 0.03241228, 0.03240104, 0.03239001, 0.03237914,\n",
       "       0.03236859, 0.0323581 , 0.03234793, 0.03233795, 0.03232811,\n",
       "       0.03231861, 0.03230922, 0.03230004, 0.0322911 , 0.03228228,\n",
       "       0.03227367, 0.03226523, 0.03225701, 0.03224896, 0.03224109,\n",
       "       0.03223349, 0.03222598, 0.03221865, 0.03221147, 0.03220452,\n",
       "       0.03219773, 0.03219111, 0.03218459, 0.0321783 , 0.03217219,\n",
       "       0.03216623, 0.03216045, 0.03215475, 0.0321493 , 0.032144  ,\n",
       "       0.03213878, 0.0321338 , 0.03212889, 0.03212415, 0.03211962,\n",
       "       0.03211518, 0.03211091, 0.03210677, 0.03210275, 0.03209887,\n",
       "       0.03209521, 0.03209154, 0.03208809, 0.03208481, 0.03208156,\n",
       "       0.03207858, 0.03207569, 0.03207283, 0.0320702 , 0.03206761,\n",
       "       0.0320652 , 0.03206293, 0.03206076, 0.03205873, 0.03205676,\n",
       "       0.03205495, 0.03205322, 0.03205164, 0.03205015, 0.03204881,\n",
       "       0.03204758, 0.03204648, 0.03204538, 0.03204457, 0.03204365,\n",
       "       0.032043  , 0.03204234, 0.03204189, 0.03204148, 0.03204118,\n",
       "       0.032041  , 0.03204088, 0.03204091, 0.032041  , 0.03204118,\n",
       "       0.03204139, 0.03204183, 0.03204231, 0.03204291, 0.03204353,\n",
       "       0.03204431, 0.03204508, 0.03204601, 0.03204702, 0.03204818,\n",
       "       0.03204934, 0.03205056, 0.03205194, 0.03205334, 0.03205486,\n",
       "       0.03205644, 0.0320581 , 0.03205986, 0.03206171, 0.03206356,\n",
       "       0.03206553, 0.03206758, 0.03206967, 0.03207193, 0.03207414,\n",
       "       0.03207643, 0.03207894, 0.03208141, 0.03208391, 0.03208654,\n",
       "       0.03208922, 0.03209199, 0.03209479, 0.03209765, 0.03210057,\n",
       "       0.03210361, 0.03210665, 0.03210981, 0.03211297, 0.03211619,\n",
       "       0.03211953, 0.0321229 , 0.03212629, 0.03212981, 0.03213324,\n",
       "       0.03213693, 0.03214051, 0.0321442 , 0.03214793, 0.0321518 ,\n",
       "       0.03215562, 0.03215955, 0.03216346, 0.03216748, 0.03217153],\n",
       "      dtype=float32)"
      ]
     },
     "execution_count": 244,
     "metadata": {},
     "output_type": "execute_result"
    }
   ],
   "source": []
  }
 ],
 "metadata": {
  "kernelspec": {
   "display_name": "Python 3",
   "language": "python",
   "name": "python3"
  },
  "language_info": {
   "codemirror_mode": {
    "name": "ipython",
    "version": 3
   },
   "file_extension": ".py",
   "mimetype": "text/x-python",
   "name": "python",
   "nbconvert_exporter": "python",
   "pygments_lexer": "ipython3",
   "version": "3.6.9"
  }
 },
 "nbformat": 4,
 "nbformat_minor": 5
}

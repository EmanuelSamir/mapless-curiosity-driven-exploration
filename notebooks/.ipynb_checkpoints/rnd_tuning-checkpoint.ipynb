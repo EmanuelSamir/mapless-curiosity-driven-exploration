{
 "cells": [
  {
   "cell_type": "code",
   "execution_count": 1,
   "id": "found-religious",
   "metadata": {},
   "outputs": [],
   "source": [
    "from torch import nn\n",
    "import torch\n",
    "from os.path import join\n",
    "import pandas as pd\n",
    "from matplotlib import pyplot as plt\n",
    "import torch.nn.functional as F\n",
    "import numpy as np\n",
    "import random\n",
    "import json\n",
    "import yaml\n",
    "import io"
   ]
  },
  {
   "cell_type": "code",
   "execution_count": 2,
   "id": "solved-bouquet",
   "metadata": {},
   "outputs": [],
   "source": [
    "def weights_init(m):\n",
    "    classname = m.__class__.__name__\n",
    "    if classname.find('Linear') != -1:\n",
    "        m.weight.data.normal_(0.0, 5.)\n",
    "        m.bias.data.normal_(0.0, 5.)\n",
    "\n",
    "class RND(nn.Module):\n",
    "    def __init__(self, state_dim = 16, k = 16):\n",
    "        super(RND, self).__init__()      \n",
    "        self.first = True\n",
    "\n",
    "        f1 = state_dim\n",
    "        f2 = 32\n",
    "        f3 = 16\n",
    "        f4 = 16\n",
    "        self.k = k\n",
    "        \n",
    "        # Experiment with 8 layers 16: No puede converger\n",
    "        # Experiment p (16) t(2: Similar works, different does not converge\n",
    "        # Experiment p (2) t(16): Similar partially works, different does not converge\n",
    "        # Experiment 2 layers: Both does not work\n",
    "        # Experiment two layers one activation: Terrible\n",
    "        # Experiment one layer: Similar works well, different works some how well\n",
    "            # Experiment with high k 256: Works pretty well both\n",
    "            # Experiment with low k 8: Works better but maybe it is only for some cases\n",
    "            # Experiment with low k without zero-one initialization: Works slightly better\n",
    "            # Experiment with super high k 1028: Works no so well, but works\n",
    "\n",
    "\n",
    "        self.target =  nn.Sequential(\n",
    "                            nn.Linear(f1, k),                   #nn.Sigmoid(),\n",
    "                            #nn.Linear(k, k),                    #nn.Sigmoid()\n",
    "                            ) \n",
    "\n",
    "        \n",
    "        self.predictor = nn.Sequential(\n",
    "                            nn.Linear(f1, k),                   #nn.Sigmoid(),\n",
    "                            #nn.Linear(k, k),                   # nn.Sigmoid()\n",
    "                            )  \n",
    "        self.predictor.apply(weights_init)\n",
    "        self.target.apply(weights_init)\n",
    "        \n",
    "            \n",
    "    def fix_target(self):\n",
    "        for param in self.target.parameters():\n",
    "            param.requires_grad = False\n",
    "\n",
    "    def reset(self):\n",
    "        self.predictor.apply(weights_init)\n",
    "        self.target.apply(weights_init)\n",
    "\n",
    "    def forward(self, x):\n",
    "        to = self.target(x)\n",
    "        po = self.predictor(x)\n",
    "\n",
    "        mse = (to - po).pow(2).sum(0) / self.k * 2\n",
    "\n",
    "        int_reward =  mse.detach().float().unsqueeze(0)\n",
    "\n",
    "        return to, po, int_reward\n",
    "\n",
    "def tl(x): return torch.from_numpy(x).float()"
   ]
  },
  {
   "cell_type": "code",
   "execution_count": null,
   "id": "binary-geography",
   "metadata": {},
   "outputs": [],
   "source": []
  },
  {
   "cell_type": "code",
   "execution_count": null,
   "id": "conscious-heath",
   "metadata": {},
   "outputs": [],
   "source": []
  },
  {
   "cell_type": "code",
   "execution_count": 31,
   "id": "representative-blood",
   "metadata": {},
   "outputs": [],
   "source": []
  },
  {
   "cell_type": "code",
   "execution_count": 4,
   "id": "proof-cigarette",
   "metadata": {},
   "outputs": [],
   "source": [
    "torch.set_printoptions(precision=3)"
   ]
  },
  {
   "cell_type": "code",
   "execution_count": 5,
   "id": "continued-rider",
   "metadata": {},
   "outputs": [],
   "source": [
    "obs_n = 8\n",
    "k = 16\n",
    "\n",
    "SAMPLE_SIZE = 1_000\n",
    "rnd = RND(state_dim = obs_n, k = k)\n",
    "s = torch.rand(1, obs_n)"
   ]
  },
  {
   "cell_type": "code",
   "execution_count": 7,
   "id": "capable-conditions",
   "metadata": {},
   "outputs": [
    {
     "data": {
      "text/plain": [
       "(tensor([[  5.989,   3.837,  12.528,  -3.095,   2.396,   6.848, -10.121,  -2.893,\n",
       "           -3.481,  -6.363,   6.615,   6.448,   1.989,   5.349,  -1.218, -14.138]],\n",
       "        grad_fn=<AddmmBackward>),\n",
       " tensor([[ -4.149,  -0.585,   7.474,   8.203,  -6.495,  -1.791, -10.638,  -0.252,\n",
       "           -1.784,  12.284,   3.278,  -4.085,   4.122,   5.700, -16.426,   5.026]],\n",
       "        grad_fn=<AddmmBackward>),\n",
       " tensor([[1.285e+01, 2.444e+00, 3.193e+00, 1.596e+01, 9.882e+00, 9.329e+00,\n",
       "          3.335e-02, 8.719e-01, 3.598e-01, 4.346e+01, 1.392e+00, 1.387e+01,\n",
       "          5.685e-01, 1.544e-02, 2.891e+01, 4.591e+01]]))"
      ]
     },
     "execution_count": 7,
     "metadata": {},
     "output_type": "execute_result"
    }
   ],
   "source": [
    "rnd(s)"
   ]
  },
  {
   "cell_type": "code",
   "execution_count": 6,
   "id": "unusual-chancellor",
   "metadata": {},
   "outputs": [
    {
     "ename": "RuntimeError",
     "evalue": "all elements of input should be between 0 and 1",
     "output_type": "error",
     "traceback": [
      "\u001b[0;31m---------------------------------------------------------------------------\u001b[0m",
      "\u001b[0;31mRuntimeError\u001b[0m                              Traceback (most recent call last)",
      "\u001b[0;32m<ipython-input-6-68af8d387bd0>\u001b[0m in \u001b[0;36m<module>\u001b[0;34m\u001b[0m\n\u001b[1;32m      9\u001b[0m \u001b[0;34m\u001b[0m\u001b[0m\n\u001b[1;32m     10\u001b[0m \u001b[0;32mfor\u001b[0m \u001b[0mi\u001b[0m \u001b[0;32min\u001b[0m \u001b[0mrange\u001b[0m\u001b[0;34m(\u001b[0m\u001b[0mSAMPLE_SIZE\u001b[0m\u001b[0;34m)\u001b[0m\u001b[0;34m:\u001b[0m\u001b[0;34m\u001b[0m\u001b[0;34m\u001b[0m\u001b[0m\n\u001b[0;32m---> 11\u001b[0;31m     \u001b[0mpred_loss\u001b[0m \u001b[0;34m=\u001b[0m \u001b[0mF\u001b[0m\u001b[0;34m.\u001b[0m\u001b[0mbinary_cross_entropy\u001b[0m\u001b[0;34m(\u001b[0m\u001b[0mrnd\u001b[0m\u001b[0;34m.\u001b[0m\u001b[0mpredictor\u001b[0m\u001b[0;34m(\u001b[0m\u001b[0mpred_data_in\u001b[0m\u001b[0;34m[\u001b[0m\u001b[0mi\u001b[0m\u001b[0;34m]\u001b[0m\u001b[0;34m)\u001b[0m\u001b[0;34m,\u001b[0m \u001b[0mpred_data_out\u001b[0m\u001b[0;34m[\u001b[0m\u001b[0mi\u001b[0m\u001b[0;34m]\u001b[0m\u001b[0;34m)\u001b[0m\u001b[0;34m\u001b[0m\u001b[0;34m\u001b[0m\u001b[0m\n\u001b[0m\u001b[1;32m     12\u001b[0m     \u001b[0mpredictor_opt\u001b[0m\u001b[0;34m.\u001b[0m\u001b[0mzero_grad\u001b[0m\u001b[0;34m(\u001b[0m\u001b[0;34m)\u001b[0m\u001b[0;34m\u001b[0m\u001b[0;34m\u001b[0m\u001b[0m\n\u001b[1;32m     13\u001b[0m     \u001b[0mpred_loss\u001b[0m\u001b[0;34m.\u001b[0m\u001b[0mbackward\u001b[0m\u001b[0;34m(\u001b[0m\u001b[0;34m)\u001b[0m\u001b[0;34m\u001b[0m\u001b[0;34m\u001b[0m\u001b[0m\n",
      "\u001b[0;32m~/.local/lib/python3.6/site-packages/torch/nn/functional.py\u001b[0m in \u001b[0;36mbinary_cross_entropy\u001b[0;34m(input, target, weight, size_average, reduce, reduction)\u001b[0m\n\u001b[1;32m   2377\u001b[0m \u001b[0;34m\u001b[0m\u001b[0m\n\u001b[1;32m   2378\u001b[0m     return torch._C._nn.binary_cross_entropy(\n\u001b[0;32m-> 2379\u001b[0;31m         input, target, weight, reduction_enum)\n\u001b[0m\u001b[1;32m   2380\u001b[0m \u001b[0;34m\u001b[0m\u001b[0m\n\u001b[1;32m   2381\u001b[0m \u001b[0;34m\u001b[0m\u001b[0m\n",
      "\u001b[0;31mRuntimeError\u001b[0m: all elements of input should be between 0 and 1"
     ]
    }
   ],
   "source": [
    "predictor_opt = torch.optim.Adam(rnd.predictor.parameters(), lr = 1e-2)\n",
    "target_opt = torch.optim.Adam(rnd.target.parameters(), lr = 1e-2)\n",
    "\n",
    "pred_data_in = torch.rand((SAMPLE_SIZE, obs_n))\n",
    "target_data_in = torch.rand((SAMPLE_SIZE, obs_n))\n",
    "\n",
    "pred_data_out = torch.zeros((SAMPLE_SIZE, k), requires_grad=False)\n",
    "target_data_out = torch.ones((SAMPLE_SIZE, k), requires_grad=False)\n",
    "\n",
    "for i in range(SAMPLE_SIZE):\n",
    "    pred_loss = F.binary_cross_entropy(rnd.predictor(pred_data_in[i]), pred_data_out[i])\n",
    "    predictor_opt.zero_grad()\n",
    "    pred_loss.backward()\n",
    "    predictor_opt.step()\n",
    "\n",
    "    target_loss = F.binary_cross_entropy(rnd.target(target_data_in[i]), target_data_out[i])\n",
    "    target_opt.zero_grad()\n",
    "    target_loss.backward()\n",
    "    target_opt.step()\n"
   ]
  },
  {
   "cell_type": "code",
   "execution_count": 216,
   "id": "encouraging-lesson",
   "metadata": {},
   "outputs": [
    {
     "data": {
      "text/plain": [
       "tensor([0.886, 0.367, 0.654, 0.050, 0.502, 0.836, 0.282, 0.284])"
      ]
     },
     "execution_count": 216,
     "metadata": {},
     "output_type": "execute_result"
    }
   ],
   "source": []
  },
  {
   "cell_type": "code",
   "execution_count": 231,
   "id": "timely-cowboy",
   "metadata": {},
   "outputs": [
    {
     "data": {
      "text/plain": [
       "(tensor([[0.999, 0.989, 1.000, 1.000, 0.980, 0.988, 1.000, 0.978, 0.999, 0.960,\n",
       "          1.000, 1.000, 1.000, 1.000, 0.994, 1.000]], grad_fn=<SigmoidBackward>),\n",
       " tensor([[1.436e-08, 3.298e-05, 9.853e-04, 5.727e-07, 6.614e-07, 1.628e-03,\n",
       "          1.466e-03, 5.039e-06, 5.065e-03, 1.142e-07, 9.962e-06, 3.715e-02,\n",
       "          2.460e-08, 8.278e-06, 3.027e-07, 1.130e-02]],\n",
       "        grad_fn=<SigmoidBackward>),\n",
       " tensor([[0.125, 0.122, 0.125, 0.125, 0.120, 0.122, 0.125, 0.120, 0.123, 0.115,\n",
       "          0.125, 0.116, 0.125, 0.125, 0.123, 0.122]]))"
      ]
     },
     "execution_count": 231,
     "metadata": {},
     "output_type": "execute_result"
    }
   ],
   "source": [
    "rnd(s)"
   ]
  },
  {
   "cell_type": "code",
   "execution_count": 14,
   "id": "ancient-january",
   "metadata": {},
   "outputs": [],
   "source": [
    "#rnd = RND(state_dim = obs_n, k = k)\n",
    "rnd.fix_target()\n",
    "rnd_optimizer = torch.optim.Adam(rnd.predictor.parameters(), lr = 1e-1)\n"
   ]
  },
  {
   "cell_type": "code",
   "execution_count": 98,
   "id": "differential-gauge",
   "metadata": {},
   "outputs": [
    {
     "data": {
      "text/plain": [
       "<matplotlib.legend.Legend at 0x7f78e69c0a20>"
      ]
     },
     "execution_count": 98,
     "metadata": {},
     "output_type": "execute_result"
    },
    {
     "data": {
      "image/png": "[encoded data removed]",
      "text/plain": [
       "<Figure size 432x288 with 1 Axes>"
      ]
     },
     "metadata": {
      "needs_background": "light"
     },
     "output_type": "display_data"
    }
   ],
   "source": [
    "\n",
    "\n",
    "n_opt = 20\n",
    "\n",
    "ep = 8\n",
    "n = 401\n",
    "path = '../specials/A2CiLSTMRNDPN/_0526_22-30-30/'\n",
    "fn = join(path, 'e{}_n{}'.format(ep, n), 'data.csv')\n",
    "df = pd.read_csv(fn)\n",
    "\n",
    "\n",
    "steps = [1,2,3,4,5]\n",
    "\n",
    "for step in steps:\n",
    "    \n",
    "    features_ns = tl(df.iloc[step,1:].values)\n",
    "\n",
    "    x = features_ns.unsqueeze(0)\n",
    "    xs = torch.repeat_interleave(x, n_opt, dim=0)\n",
    "\n",
    "    r = []\n",
    "\n",
    "    for x_i in xs:\n",
    "        t, p, ri = rnd(x_i)\n",
    "        r.append(ri)\n",
    "        int_loss = F.binary_cross_entropy(p, t.detach())\n",
    "        rnd_optimizer.zero_grad()\n",
    "        int_loss.backward()\n",
    "        rnd_optimizer.step()\n",
    "\n",
    "    plt.plot(r)\n",
    "    \n",
    "plt.legend(steps)"
   ]
  },
  {
   "cell_type": "markdown",
   "id": "revolutionary-ballot",
   "metadata": {},
   "source": [
    "## Close samples. Should be close to zero"
   ]
  },
  {
   "cell_type": "code",
   "execution_count": 26,
   "id": "surgical-atlanta",
   "metadata": {},
   "outputs": [
    {
     "data": {
      "text/plain": [
       "Text(0.5, 0, 'observaciones')"
      ]
     },
     "execution_count": 26,
     "metadata": {},
     "output_type": "execute_result"
    },
    {
     "data": {
      "image/png": "[encoded data removed]",
      "text/plain": [
       "<Figure size 576x360 with 1 Axes>"
      ]
     },
     "metadata": {
      "needs_background": "light"
     },
     "output_type": "display_data"
    }
   ],
   "source": [
    "n_opt = 20\n",
    "\n",
    "ep = 3\n",
    "n = 401\n",
    "path = '../specials/A2CiLSTMRNDPN/_0526_22-30-30/'\n",
    "fn = join(path, 'e{}_n{}'.format(ep, n), 'data.csv')\n",
    "df = pd.read_csv(fn)\n",
    "\n",
    "\n",
    "steps = [1,2,3,4,5]\n",
    "\n",
    "f,ax = plt.subplots(1,1,figsize = (8,5))\n",
    "r = []\n",
    "\n",
    "for step in steps:\n",
    "    features_ns = tl(df.iloc[step,1:].values)\n",
    "\n",
    "    x = features_ns.unsqueeze(0)\n",
    "    xs = torch.repeat_interleave(x, n_opt, dim=0)\n",
    "\n",
    "    for i, x_i in enumerate(xs):\n",
    "        t, p, ri = rnd(x_i)\n",
    "        if i == 0:\n",
    "            r.append(ri)\n",
    "        \n",
    "        int_loss = F.mse_loss(t.detach(),p)\n",
    "        #int_loss = F.binary_cross_entropy(p, t.detach())\n",
    "        rnd_optimizer.zero_grad()\n",
    "        int_loss.backward()\n",
    "        rnd_optimizer.step()\n",
    "\n",
    "ax.plot(steps,r)\n",
    "\n",
    "ax.set_title('Caso de observaciones similares para RND lineal', fontsize = 15)\n",
    "leg = ['${}^1o_1$', '${}^1o_2$','${}^1o_3$', '${}^1o_4$', '${}^1o_5$']\n",
    "plt.xticks(steps,leg, fontsize = 14)\n",
    "ax.set_ylabel('${}^ir_k$', fontsize = 20)\n",
    "ax.set_xlabel('observaciones', fontsize = 20)\n"
   ]
  },
  {
   "cell_type": "markdown",
   "id": "relevant-heaven",
   "metadata": {},
   "source": [
    "## Close sample sample. See how is the distribution"
   ]
  },
  {
   "cell_type": "code",
   "execution_count": 57,
   "id": "pursuant-madagascar",
   "metadata": {},
   "outputs": [
    {
     "ename": "RuntimeError",
     "evalue": "all elements of input should be between 0 and 1",
     "output_type": "error",
     "traceback": [
      "\u001b[0;31m---------------------------------------------------------------------------\u001b[0m",
      "\u001b[0;31mRuntimeError\u001b[0m                              Traceback (most recent call last)",
      "\u001b[0;32m<ipython-input-57-4ba605e4fceb>\u001b[0m in \u001b[0;36m<module>\u001b[0;34m\u001b[0m\n\u001b[1;32m     25\u001b[0m         \u001b[0mt\u001b[0m\u001b[0;34m,\u001b[0m \u001b[0mp\u001b[0m\u001b[0;34m,\u001b[0m \u001b[0mri\u001b[0m \u001b[0;34m=\u001b[0m \u001b[0mrnd\u001b[0m\u001b[0;34m(\u001b[0m\u001b[0mx_i\u001b[0m\u001b[0;34m)\u001b[0m\u001b[0;34m\u001b[0m\u001b[0;34m\u001b[0m\u001b[0m\n\u001b[1;32m     26\u001b[0m         \u001b[0mr\u001b[0m\u001b[0;34m.\u001b[0m\u001b[0mappend\u001b[0m\u001b[0;34m(\u001b[0m\u001b[0mri\u001b[0m\u001b[0;34m)\u001b[0m\u001b[0;34m\u001b[0m\u001b[0;34m\u001b[0m\u001b[0m\n\u001b[0;32m---> 27\u001b[0;31m         \u001b[0mint_loss\u001b[0m \u001b[0;34m=\u001b[0m \u001b[0mF\u001b[0m\u001b[0;34m.\u001b[0m\u001b[0mbinary_cross_entropy\u001b[0m\u001b[0;34m(\u001b[0m\u001b[0mp\u001b[0m\u001b[0;34m,\u001b[0m \u001b[0mt\u001b[0m\u001b[0;34m.\u001b[0m\u001b[0mdetach\u001b[0m\u001b[0;34m(\u001b[0m\u001b[0;34m)\u001b[0m\u001b[0;34m)\u001b[0m\u001b[0;34m\u001b[0m\u001b[0;34m\u001b[0m\u001b[0m\n\u001b[0m\u001b[1;32m     28\u001b[0m         \u001b[0mrnd_optimizer\u001b[0m\u001b[0;34m.\u001b[0m\u001b[0mzero_grad\u001b[0m\u001b[0;34m(\u001b[0m\u001b[0;34m)\u001b[0m\u001b[0;34m\u001b[0m\u001b[0;34m\u001b[0m\u001b[0m\n\u001b[1;32m     29\u001b[0m         \u001b[0mint_loss\u001b[0m\u001b[0;34m.\u001b[0m\u001b[0mbackward\u001b[0m\u001b[0;34m(\u001b[0m\u001b[0;34m)\u001b[0m\u001b[0;34m\u001b[0m\u001b[0;34m\u001b[0m\u001b[0m\n",
      "\u001b[0;32m~/.local/lib/python3.6/site-packages/torch/nn/functional.py\u001b[0m in \u001b[0;36mbinary_cross_entropy\u001b[0;34m(input, target, weight, size_average, reduce, reduction)\u001b[0m\n\u001b[1;32m   2377\u001b[0m \u001b[0;34m\u001b[0m\u001b[0m\n\u001b[1;32m   2378\u001b[0m     return torch._C._nn.binary_cross_entropy(\n\u001b[0;32m-> 2379\u001b[0;31m         input, target, weight, reduction_enum)\n\u001b[0m\u001b[1;32m   2380\u001b[0m \u001b[0;34m\u001b[0m\u001b[0m\n\u001b[1;32m   2381\u001b[0m \u001b[0;34m\u001b[0m\u001b[0m\n",
      "\u001b[0;31mRuntimeError\u001b[0m: all elements of input should be between 0 and 1"
     ]
    },
    {
     "data": {
      "image/png": "[encoded data removed]",
      "text/plain": [
       "<Figure size 576x360 with 1 Axes>"
      ]
     },
     "metadata": {
      "needs_background": "light"
     },
     "output_type": "display_data"
    }
   ],
   "source": [
    "\n",
    "n_opt = 20\n",
    "\n",
    "ep = 3\n",
    "n = 110\n",
    "path = '../specials/A2CiLSTMRNDPN/_0512_20-47-05/'\n",
    "fn = join(path, 'e{}_n{}'.format(ep, n), 'data.csv')\n",
    "df = pd.read_csv(fn)\n",
    "\n",
    "\n",
    "steps = [1,1,1,1,1,1,1,1,1,1]\n",
    "\n",
    "f,ax = plt.subplots(1,1,figsize = (8,5))\n",
    "\n",
    "for step in steps:\n",
    "    features_ns = tl(df.iloc[step,1:].values)\n",
    "\n",
    "    x = features_ns.unsqueeze(0)\n",
    "    xs = torch.repeat_interleave(x, n_opt, dim=0)\n",
    "    rnd = RND(state_dim = 288)\n",
    "    rnd_optimizer = torch.optim.Adam(rnd.predictor.parameters(), lr = 1e-1)\n",
    "\n",
    "    r = []\n",
    "\n",
    "    for x_i in xs:\n",
    "        t, p, ri = rnd(x_i)\n",
    "        r.append(ri)\n",
    "        int_loss = F.binary_cross_entropy(p, t.detach())\n",
    "        rnd_optimizer.zero_grad()\n",
    "        int_loss.backward()\n",
    "        rnd_optimizer.step()\n",
    "\n",
    "    ax.plot(r)\n",
    "    \n",
    "plt.legend(steps)"
   ]
  },
  {
   "cell_type": "markdown",
   "id": "sharing-spring",
   "metadata": {},
   "source": [
    "## Samples from different episodes. Should be different."
   ]
  },
  {
   "cell_type": "code",
   "execution_count": 179,
   "id": "assumed-token",
   "metadata": {},
   "outputs": [
    {
     "data": {
      "text/plain": [
       "Text(0.5, 0, 'epochs entrenamiento de RND')"
      ]
     },
     "execution_count": 179,
     "metadata": {},
     "output_type": "execute_result"
    },
    {
     "data": {
      "image/png": "[encoded data removed]",
      "text/plain": [
       "<Figure size 576x360 with 1 Axes>"
      ]
     },
     "metadata": {
      "needs_background": "light"
     },
     "output_type": "display_data"
    }
   ],
   "source": [
    "rnd = RND(state_dim = 8)\n",
    "\n",
    "rnd_optimizer = torch.optim.Adam(rnd.predictor.parameters(), lr = 1e-1 )\n",
    "n_opt = 30\n",
    "\n",
    "ep = 3\n",
    "path = '../specials/A2CiLSTMRNDPN/_0526_22-30-30/'\n",
    "#path = '../specials/A2CiLSTMRNDPN/_0526_22-30-30/'\n",
    "\n",
    "\n",
    "ns = [401,401,401,401,401]#,401,401,401]# 67,8,89,110,30,116,201,194]\n",
    "eps = [30,31,32,33,34,35]#,36,37]\n",
    "\n",
    "\n",
    "f,ax = plt.subplots(1,1,figsize = (8,5))\n",
    "\n",
    "for ep, n in zip(eps, ns):\n",
    "    fn = join(path, 'e{}_n{}'.format(ep, n), 'data.csv')\n",
    "    df = pd.read_csv(fn)\n",
    "    features_ns = tl(df.iloc[-1,1:].values)\n",
    "\n",
    "    x = features_ns.unsqueeze(0)\n",
    "    xs = torch.repeat_interleave(x, n_opt, dim=0)\n",
    "\n",
    "    r = []\n",
    "\n",
    "    for x_i in xs:\n",
    "        t, p, ri = rnd(x_i)\n",
    "        r.append(ri)\n",
    "        #int_loss = F.mse_loss(p, t.detach())\n",
    "        int_loss = F.binary_cross_entropy(p, t.detach())\n",
    "        \n",
    "        rnd_optimizer.zero_grad()\n",
    "        int_loss.backward()\n",
    "        rnd_optimizer.step()\n",
    "\n",
    "    ax.plot(r)\n",
    "    \n",
    "ax.set_title('Caso de observaciones diferentes para RND sigmoide', fontsize = 15)    \n",
    "leg = ['${}^1o_1$', '${}^2o_1$','${}^3o_1$', '${}^4o_1$', '${}^5o_1$']\n",
    "plt.legend(leg, fontsize = 15)\n",
    "ax.set_ylabel('${}^ir_k$', fontsize = 20)\n",
    "ax.set_xlabel('epochs entrenamiento de RND', fontsize = 15)\n"
   ]
  },
  {
   "cell_type": "code",
   "execution_count": 245,
   "id": "neutral-tiger",
   "metadata": {},
   "outputs": [
    {
     "ename": "RuntimeError",
     "evalue": "size mismatch, m1: [1 x 288], m2: [8 x 128] at /pytorch/aten/src/TH/generic/THTensorMath.cpp:41",
     "output_type": "error",
     "traceback": [
      "\u001b[0;31m---------------------------------------------------------------------------\u001b[0m",
      "\u001b[0;31mRuntimeError\u001b[0m                              Traceback (most recent call last)",
      "\u001b[0;32m<ipython-input-245-30dd5281e735>\u001b[0m in \u001b[0;36m<module>\u001b[0;34m\u001b[0m\n\u001b[1;32m      1\u001b[0m \u001b[0mx\u001b[0m \u001b[0;34m=\u001b[0m \u001b[0mtorch\u001b[0m\u001b[0;34m.\u001b[0m\u001b[0mrand\u001b[0m\u001b[0;34m(\u001b[0m\u001b[0;36m288\u001b[0m\u001b[0;34m)\u001b[0m\u001b[0;34m\u001b[0m\u001b[0;34m\u001b[0m\u001b[0m\n\u001b[0;32m----> 2\u001b[0;31m \u001b[0mrnd\u001b[0m\u001b[0;34m(\u001b[0m\u001b[0mx\u001b[0m\u001b[0;34m)\u001b[0m\u001b[0;34m\u001b[0m\u001b[0;34m\u001b[0m\u001b[0m\n\u001b[0m",
      "\u001b[0;32m~/.local/lib/python3.6/site-packages/torch/nn/modules/module.py\u001b[0m in \u001b[0;36m__call__\u001b[0;34m(self, *input, **kwargs)\u001b[0m\n\u001b[1;32m    548\u001b[0m             \u001b[0mresult\u001b[0m \u001b[0;34m=\u001b[0m \u001b[0mself\u001b[0m\u001b[0;34m.\u001b[0m\u001b[0m_slow_forward\u001b[0m\u001b[0;34m(\u001b[0m\u001b[0;34m*\u001b[0m\u001b[0minput\u001b[0m\u001b[0;34m,\u001b[0m \u001b[0;34m**\u001b[0m\u001b[0mkwargs\u001b[0m\u001b[0;34m)\u001b[0m\u001b[0;34m\u001b[0m\u001b[0;34m\u001b[0m\u001b[0m\n\u001b[1;32m    549\u001b[0m         \u001b[0;32melse\u001b[0m\u001b[0;34m:\u001b[0m\u001b[0;34m\u001b[0m\u001b[0;34m\u001b[0m\u001b[0m\n\u001b[0;32m--> 550\u001b[0;31m             \u001b[0mresult\u001b[0m \u001b[0;34m=\u001b[0m \u001b[0mself\u001b[0m\u001b[0;34m.\u001b[0m\u001b[0mforward\u001b[0m\u001b[0;34m(\u001b[0m\u001b[0;34m*\u001b[0m\u001b[0minput\u001b[0m\u001b[0;34m,\u001b[0m \u001b[0;34m**\u001b[0m\u001b[0mkwargs\u001b[0m\u001b[0;34m)\u001b[0m\u001b[0;34m\u001b[0m\u001b[0;34m\u001b[0m\u001b[0m\n\u001b[0m\u001b[1;32m    551\u001b[0m         \u001b[0;32mfor\u001b[0m \u001b[0mhook\u001b[0m \u001b[0;32min\u001b[0m \u001b[0mself\u001b[0m\u001b[0;34m.\u001b[0m\u001b[0m_forward_hooks\u001b[0m\u001b[0;34m.\u001b[0m\u001b[0mvalues\u001b[0m\u001b[0;34m(\u001b[0m\u001b[0;34m)\u001b[0m\u001b[0;34m:\u001b[0m\u001b[0;34m\u001b[0m\u001b[0;34m\u001b[0m\u001b[0m\n\u001b[1;32m    552\u001b[0m             \u001b[0mhook_result\u001b[0m \u001b[0;34m=\u001b[0m \u001b[0mhook\u001b[0m\u001b[0;34m(\u001b[0m\u001b[0mself\u001b[0m\u001b[0;34m,\u001b[0m \u001b[0minput\u001b[0m\u001b[0;34m,\u001b[0m \u001b[0mresult\u001b[0m\u001b[0;34m)\u001b[0m\u001b[0;34m\u001b[0m\u001b[0;34m\u001b[0m\u001b[0m\n",
      "\u001b[0;32m<ipython-input-223-fc9b6805148a>\u001b[0m in \u001b[0;36mforward\u001b[0;34m(self, x)\u001b[0m\n\u001b[1;32m     42\u001b[0m \u001b[0;34m\u001b[0m\u001b[0m\n\u001b[1;32m     43\u001b[0m     \u001b[0;32mdef\u001b[0m \u001b[0mforward\u001b[0m\u001b[0;34m(\u001b[0m\u001b[0mself\u001b[0m\u001b[0;34m,\u001b[0m \u001b[0mx\u001b[0m\u001b[0;34m)\u001b[0m\u001b[0;34m:\u001b[0m\u001b[0;34m\u001b[0m\u001b[0;34m\u001b[0m\u001b[0m\n\u001b[0;32m---> 44\u001b[0;31m         \u001b[0mto\u001b[0m \u001b[0;34m=\u001b[0m \u001b[0mself\u001b[0m\u001b[0;34m.\u001b[0m\u001b[0mtarget\u001b[0m\u001b[0;34m(\u001b[0m\u001b[0mx\u001b[0m\u001b[0;34m)\u001b[0m\u001b[0;34m\u001b[0m\u001b[0;34m\u001b[0m\u001b[0m\n\u001b[0m\u001b[1;32m     45\u001b[0m         \u001b[0mpo\u001b[0m \u001b[0;34m=\u001b[0m \u001b[0mself\u001b[0m\u001b[0;34m.\u001b[0m\u001b[0mpredictor\u001b[0m\u001b[0;34m(\u001b[0m\u001b[0mx\u001b[0m\u001b[0;34m)\u001b[0m\u001b[0;34m\u001b[0m\u001b[0;34m\u001b[0m\u001b[0m\n\u001b[1;32m     46\u001b[0m \u001b[0;34m\u001b[0m\u001b[0m\n",
      "\u001b[0;32m~/.local/lib/python3.6/site-packages/torch/nn/modules/module.py\u001b[0m in \u001b[0;36m__call__\u001b[0;34m(self, *input, **kwargs)\u001b[0m\n\u001b[1;32m    548\u001b[0m             \u001b[0mresult\u001b[0m \u001b[0;34m=\u001b[0m \u001b[0mself\u001b[0m\u001b[0;34m.\u001b[0m\u001b[0m_slow_forward\u001b[0m\u001b[0;34m(\u001b[0m\u001b[0;34m*\u001b[0m\u001b[0minput\u001b[0m\u001b[0;34m,\u001b[0m \u001b[0;34m**\u001b[0m\u001b[0mkwargs\u001b[0m\u001b[0;34m)\u001b[0m\u001b[0;34m\u001b[0m\u001b[0;34m\u001b[0m\u001b[0m\n\u001b[1;32m    549\u001b[0m         \u001b[0;32melse\u001b[0m\u001b[0;34m:\u001b[0m\u001b[0;34m\u001b[0m\u001b[0;34m\u001b[0m\u001b[0m\n\u001b[0;32m--> 550\u001b[0;31m             \u001b[0mresult\u001b[0m \u001b[0;34m=\u001b[0m \u001b[0mself\u001b[0m\u001b[0;34m.\u001b[0m\u001b[0mforward\u001b[0m\u001b[0;34m(\u001b[0m\u001b[0;34m*\u001b[0m\u001b[0minput\u001b[0m\u001b[0;34m,\u001b[0m \u001b[0;34m**\u001b[0m\u001b[0mkwargs\u001b[0m\u001b[0;34m)\u001b[0m\u001b[0;34m\u001b[0m\u001b[0;34m\u001b[0m\u001b[0m\n\u001b[0m\u001b[1;32m    551\u001b[0m         \u001b[0;32mfor\u001b[0m \u001b[0mhook\u001b[0m \u001b[0;32min\u001b[0m \u001b[0mself\u001b[0m\u001b[0;34m.\u001b[0m\u001b[0m_forward_hooks\u001b[0m\u001b[0;34m.\u001b[0m\u001b[0mvalues\u001b[0m\u001b[0;34m(\u001b[0m\u001b[0;34m)\u001b[0m\u001b[0;34m:\u001b[0m\u001b[0;34m\u001b[0m\u001b[0;34m\u001b[0m\u001b[0m\n\u001b[1;32m    552\u001b[0m             \u001b[0mhook_result\u001b[0m \u001b[0;34m=\u001b[0m \u001b[0mhook\u001b[0m\u001b[0;34m(\u001b[0m\u001b[0mself\u001b[0m\u001b[0;34m,\u001b[0m \u001b[0minput\u001b[0m\u001b[0;34m,\u001b[0m \u001b[0mresult\u001b[0m\u001b[0;34m)\u001b[0m\u001b[0;34m\u001b[0m\u001b[0;34m\u001b[0m\u001b[0m\n",
      "\u001b[0;32m~/.local/lib/python3.6/site-packages/torch/nn/modules/container.py\u001b[0m in \u001b[0;36mforward\u001b[0;34m(self, input)\u001b[0m\n\u001b[1;32m     98\u001b[0m     \u001b[0;32mdef\u001b[0m \u001b[0mforward\u001b[0m\u001b[0;34m(\u001b[0m\u001b[0mself\u001b[0m\u001b[0;34m,\u001b[0m \u001b[0minput\u001b[0m\u001b[0;34m)\u001b[0m\u001b[0;34m:\u001b[0m\u001b[0;34m\u001b[0m\u001b[0;34m\u001b[0m\u001b[0m\n\u001b[1;32m     99\u001b[0m         \u001b[0;32mfor\u001b[0m \u001b[0mmodule\u001b[0m \u001b[0;32min\u001b[0m \u001b[0mself\u001b[0m\u001b[0;34m:\u001b[0m\u001b[0;34m\u001b[0m\u001b[0;34m\u001b[0m\u001b[0m\n\u001b[0;32m--> 100\u001b[0;31m             \u001b[0minput\u001b[0m \u001b[0;34m=\u001b[0m \u001b[0mmodule\u001b[0m\u001b[0;34m(\u001b[0m\u001b[0minput\u001b[0m\u001b[0;34m)\u001b[0m\u001b[0;34m\u001b[0m\u001b[0;34m\u001b[0m\u001b[0m\n\u001b[0m\u001b[1;32m    101\u001b[0m         \u001b[0;32mreturn\u001b[0m \u001b[0minput\u001b[0m\u001b[0;34m\u001b[0m\u001b[0;34m\u001b[0m\u001b[0m\n\u001b[1;32m    102\u001b[0m \u001b[0;34m\u001b[0m\u001b[0m\n",
      "\u001b[0;32m~/.local/lib/python3.6/site-packages/torch/nn/modules/module.py\u001b[0m in \u001b[0;36m__call__\u001b[0;34m(self, *input, **kwargs)\u001b[0m\n\u001b[1;32m    548\u001b[0m             \u001b[0mresult\u001b[0m \u001b[0;34m=\u001b[0m \u001b[0mself\u001b[0m\u001b[0;34m.\u001b[0m\u001b[0m_slow_forward\u001b[0m\u001b[0;34m(\u001b[0m\u001b[0;34m*\u001b[0m\u001b[0minput\u001b[0m\u001b[0;34m,\u001b[0m \u001b[0;34m**\u001b[0m\u001b[0mkwargs\u001b[0m\u001b[0;34m)\u001b[0m\u001b[0;34m\u001b[0m\u001b[0;34m\u001b[0m\u001b[0m\n\u001b[1;32m    549\u001b[0m         \u001b[0;32melse\u001b[0m\u001b[0;34m:\u001b[0m\u001b[0;34m\u001b[0m\u001b[0;34m\u001b[0m\u001b[0m\n\u001b[0;32m--> 550\u001b[0;31m             \u001b[0mresult\u001b[0m \u001b[0;34m=\u001b[0m \u001b[0mself\u001b[0m\u001b[0;34m.\u001b[0m\u001b[0mforward\u001b[0m\u001b[0;34m(\u001b[0m\u001b[0;34m*\u001b[0m\u001b[0minput\u001b[0m\u001b[0;34m,\u001b[0m \u001b[0;34m**\u001b[0m\u001b[0mkwargs\u001b[0m\u001b[0;34m)\u001b[0m\u001b[0;34m\u001b[0m\u001b[0;34m\u001b[0m\u001b[0m\n\u001b[0m\u001b[1;32m    551\u001b[0m         \u001b[0;32mfor\u001b[0m \u001b[0mhook\u001b[0m \u001b[0;32min\u001b[0m \u001b[0mself\u001b[0m\u001b[0;34m.\u001b[0m\u001b[0m_forward_hooks\u001b[0m\u001b[0;34m.\u001b[0m\u001b[0mvalues\u001b[0m\u001b[0;34m(\u001b[0m\u001b[0;34m)\u001b[0m\u001b[0;34m:\u001b[0m\u001b[0;34m\u001b[0m\u001b[0;34m\u001b[0m\u001b[0m\n\u001b[1;32m    552\u001b[0m             \u001b[0mhook_result\u001b[0m \u001b[0;34m=\u001b[0m \u001b[0mhook\u001b[0m\u001b[0;34m(\u001b[0m\u001b[0mself\u001b[0m\u001b[0;34m,\u001b[0m \u001b[0minput\u001b[0m\u001b[0;34m,\u001b[0m \u001b[0mresult\u001b[0m\u001b[0;34m)\u001b[0m\u001b[0;34m\u001b[0m\u001b[0;34m\u001b[0m\u001b[0m\n",
      "\u001b[0;32m~/.local/lib/python3.6/site-packages/torch/nn/modules/linear.py\u001b[0m in \u001b[0;36mforward\u001b[0;34m(self, input)\u001b[0m\n\u001b[1;32m     85\u001b[0m \u001b[0;34m\u001b[0m\u001b[0m\n\u001b[1;32m     86\u001b[0m     \u001b[0;32mdef\u001b[0m \u001b[0mforward\u001b[0m\u001b[0;34m(\u001b[0m\u001b[0mself\u001b[0m\u001b[0;34m,\u001b[0m \u001b[0minput\u001b[0m\u001b[0;34m)\u001b[0m\u001b[0;34m:\u001b[0m\u001b[0;34m\u001b[0m\u001b[0;34m\u001b[0m\u001b[0m\n\u001b[0;32m---> 87\u001b[0;31m         \u001b[0;32mreturn\u001b[0m \u001b[0mF\u001b[0m\u001b[0;34m.\u001b[0m\u001b[0mlinear\u001b[0m\u001b[0;34m(\u001b[0m\u001b[0minput\u001b[0m\u001b[0;34m,\u001b[0m \u001b[0mself\u001b[0m\u001b[0;34m.\u001b[0m\u001b[0mweight\u001b[0m\u001b[0;34m,\u001b[0m \u001b[0mself\u001b[0m\u001b[0;34m.\u001b[0m\u001b[0mbias\u001b[0m\u001b[0;34m)\u001b[0m\u001b[0;34m\u001b[0m\u001b[0;34m\u001b[0m\u001b[0m\n\u001b[0m\u001b[1;32m     88\u001b[0m \u001b[0;34m\u001b[0m\u001b[0m\n\u001b[1;32m     89\u001b[0m     \u001b[0;32mdef\u001b[0m \u001b[0mextra_repr\u001b[0m\u001b[0;34m(\u001b[0m\u001b[0mself\u001b[0m\u001b[0;34m)\u001b[0m\u001b[0;34m:\u001b[0m\u001b[0;34m\u001b[0m\u001b[0;34m\u001b[0m\u001b[0m\n",
      "\u001b[0;32m~/.local/lib/python3.6/site-packages/torch/nn/functional.py\u001b[0m in \u001b[0;36mlinear\u001b[0;34m(input, weight, bias)\u001b[0m\n\u001b[1;32m   1610\u001b[0m         \u001b[0mret\u001b[0m \u001b[0;34m=\u001b[0m \u001b[0mtorch\u001b[0m\u001b[0;34m.\u001b[0m\u001b[0maddmm\u001b[0m\u001b[0;34m(\u001b[0m\u001b[0mbias\u001b[0m\u001b[0;34m,\u001b[0m \u001b[0minput\u001b[0m\u001b[0;34m,\u001b[0m \u001b[0mweight\u001b[0m\u001b[0;34m.\u001b[0m\u001b[0mt\u001b[0m\u001b[0;34m(\u001b[0m\u001b[0;34m)\u001b[0m\u001b[0;34m)\u001b[0m\u001b[0;34m\u001b[0m\u001b[0;34m\u001b[0m\u001b[0m\n\u001b[1;32m   1611\u001b[0m     \u001b[0;32melse\u001b[0m\u001b[0;34m:\u001b[0m\u001b[0;34m\u001b[0m\u001b[0;34m\u001b[0m\u001b[0m\n\u001b[0;32m-> 1612\u001b[0;31m         \u001b[0moutput\u001b[0m \u001b[0;34m=\u001b[0m \u001b[0minput\u001b[0m\u001b[0;34m.\u001b[0m\u001b[0mmatmul\u001b[0m\u001b[0;34m(\u001b[0m\u001b[0mweight\u001b[0m\u001b[0;34m.\u001b[0m\u001b[0mt\u001b[0m\u001b[0;34m(\u001b[0m\u001b[0;34m)\u001b[0m\u001b[0;34m)\u001b[0m\u001b[0;34m\u001b[0m\u001b[0;34m\u001b[0m\u001b[0m\n\u001b[0m\u001b[1;32m   1613\u001b[0m         \u001b[0;32mif\u001b[0m \u001b[0mbias\u001b[0m \u001b[0;32mis\u001b[0m \u001b[0;32mnot\u001b[0m \u001b[0;32mNone\u001b[0m\u001b[0;34m:\u001b[0m\u001b[0;34m\u001b[0m\u001b[0;34m\u001b[0m\u001b[0m\n\u001b[1;32m   1614\u001b[0m             \u001b[0moutput\u001b[0m \u001b[0;34m+=\u001b[0m \u001b[0mbias\u001b[0m\u001b[0;34m\u001b[0m\u001b[0;34m\u001b[0m\u001b[0m\n",
      "\u001b[0;31mRuntimeError\u001b[0m: size mismatch, m1: [1 x 288], m2: [8 x 128] at /pytorch/aten/src/TH/generic/THTensorMath.cpp:41"
     ]
    }
   ],
   "source": [
    "x = torch.rand(288)\n",
    "rnd(x)"
   ]
  },
  {
   "cell_type": "code",
   "execution_count": 363,
   "id": "certain-playlist",
   "metadata": {},
   "outputs": [],
   "source": [
    "class Regressor(nn.Module):\n",
    "    def __init__(self, state_dim = 16, k = 16):\n",
    "        super(Regressor, self).__init__()\n",
    "\n",
    "        self.regressor =   nn.Sequential(\n",
    "                            nn.Linear(1, 500),                   nn.Sigmoid(),\n",
    "                            #nn.Linear(16, 16),                   nn.Sigmoid(),\n",
    "                            #nn.Linear(16, 16),                   nn.Sigmoid(),\n",
    "                            nn.Linear(500, 1)\n",
    "                            )\n",
    "\n",
    "    def forward(self, x):\n",
    "        return self.regressor(x)"
   ]
  },
  {
   "cell_type": "code",
   "execution_count": 364,
   "id": "sensitive-guatemala",
   "metadata": {},
   "outputs": [],
   "source": [
    "reg = Regressor()\n",
    "reg_opt = torch.optim.SGD(reg.parameters(), lr = 1e-2 )"
   ]
  },
  {
   "cell_type": "code",
   "execution_count": 292,
   "id": "devoted-secretary",
   "metadata": {},
   "outputs": [],
   "source": [
    "x = np.linspace(-5,5,500)\n",
    "y = 0.5*x**2 + -(x+3)**2 + 5*np.sin(4*x)"
   ]
  },
  {
   "cell_type": "code",
   "execution_count": 211,
   "id": "educated-antigua",
   "metadata": {},
   "outputs": [
    {
     "data": {
      "text/plain": [
       "[<matplotlib.lines.Line2D at 0x7f67b245b208>]"
      ]
     },
     "execution_count": 211,
     "metadata": {},
     "output_type": "execute_result"
    },
    {
     "data": {
      "image/png": "[encoded data removed]",
      "text/plain": [
       "<Figure size 432x288 with 1 Axes>"
      ]
     },
     "metadata": {
      "needs_background": "light"
     },
     "output_type": "display_data"
    }
   ],
   "source": [
    "plt.plot(x,y)"
   ]
  },
  {
   "cell_type": "code",
   "execution_count": 365,
   "id": "located-briefs",
   "metadata": {},
   "outputs": [],
   "source": [
    "ix = list(range(30)) + list(range(200,300))#random.sample(range(500),20)\n",
    "xts = tl(x[ix])\n",
    "yts = tl(y[ix])"
   ]
  },
  {
   "cell_type": "code",
   "execution_count": 358,
   "id": "dense-roads",
   "metadata": {},
   "outputs": [],
   "source": [
    "    \n",
    "for x_i in xs:\n",
    "    t, p, ri = rnd(x_i)\n",
    "    r.append(ri)\n",
    "    int_loss = F.binary_cross_entropy(p, t.detach())\n",
    "    rnd_optimizer.zero_grad()\n",
    "    int_loss.backward()\n",
    "    rnd_optimizer.step()"
   ]
  },
  {
   "cell_type": "code",
   "execution_count": 366,
   "id": "improved-adams",
   "metadata": {},
   "outputs": [
    {
     "name": "stderr",
     "output_type": "stream",
     "text": [
      "/home/emanuelsamir/.local/lib/python3.6/site-packages/ipykernel_launcher.py:5: UserWarning: Using a target size (torch.Size([])) that is different to the input size (torch.Size([1])). This will likely lead to incorrect results due to broadcasting. Please ensure they have the same size.\n",
      "  \"\"\"\n"
     ]
    }
   ],
   "source": [
    "ls = []\n",
    "for _ in range(40):\n",
    "    for xt, yt in zip(xts, yts):\n",
    "        yh = reg(xt.unsqueeze(0))\n",
    "        loss = F.mse_loss(yh, yt)\n",
    "        ls.append(loss.detach())\n",
    "        reg_opt.zero_grad()\n",
    "        loss.backward()\n",
    "        reg_opt.step()"
   ]
  },
  {
   "cell_type": "code",
   "execution_count": 367,
   "id": "immediate-cheese",
   "metadata": {},
   "outputs": [
    {
     "data": {
      "text/plain": [
       "[<matplotlib.lines.Line2D at 0x7f67b84500f0>]"
      ]
     },
     "execution_count": 367,
     "metadata": {},
     "output_type": "execute_result"
    },
    {
     "data": {
      "image/png": "[encoded data removed]",
      "text/plain": [
       "<Figure size 432x288 with 1 Axes>"
      ]
     },
     "metadata": {
      "needs_background": "light"
     },
     "output_type": "display_data"
    }
   ],
   "source": [
    "plt.plot(ls)"
   ]
  },
  {
   "cell_type": "code",
   "execution_count": 368,
   "id": "organizational-indie",
   "metadata": {},
   "outputs": [],
   "source": [
    "yh = reg(tl(x).unsqueeze(1))\n",
    "yh = yh.detach().numpy().squeeze()"
   ]
  },
  {
   "cell_type": "code",
   "execution_count": 369,
   "id": "affecting-broadway",
   "metadata": {},
   "outputs": [
    {
     "data": {
      "text/plain": [
       "[<matplotlib.lines.Line2D at 0x7f67b85dc0b8>]"
      ]
     },
     "execution_count": 369,
     "metadata": {},
     "output_type": "execute_result"
    },
    {
     "data": {
      "image/png": "[encoded data removed]",
      "text/plain": [
       "<Figure size 432x288 with 1 Axes>"
      ]
     },
     "metadata": {
      "needs_background": "light"
     },
     "output_type": "display_data"
    }
   ],
   "source": [
    "plt.plot(x,y)\n",
    "plt.plot(x,yh)"
   ]
  },
  {
   "cell_type": "markdown",
   "id": "international-reducing",
   "metadata": {},
   "source": [
    "# Plots for RND"
   ]
  },
  {
   "cell_type": "code",
   "execution_count": 4,
   "id": "compatible-gateway",
   "metadata": {},
   "outputs": [],
   "source": [
    "\n",
    "def tl(x): return torch.from_numpy(x).float()\n",
    "def weights_init(m):\n",
    "    classname = m.__class__.__name__\n",
    "    if classname.find('Linear') != -1:\n",
    "        m.weight.data.normal_(0.0, 5.)\n",
    "        m.bias.data.normal_(0.0, 5.)"
   ]
  },
  {
   "cell_type": "markdown",
   "id": "visible-humanity",
   "metadata": {},
   "source": [
    "## Lineal"
   ]
  },
  {
   "cell_type": "code",
   "execution_count": 5,
   "id": "incomplete-cylinder",
   "metadata": {},
   "outputs": [],
   "source": [
    "class RND(nn.Module):\n",
    "    def __init__(self, state_dim = 16, k = 16):\n",
    "        super(RND, self).__init__()      \n",
    "        self.first = True\n",
    "\n",
    "        f1 = state_dim\n",
    "        f2 = 32\n",
    "        f3 = 16\n",
    "        f4 = 16\n",
    "        self.k = k\n",
    "        \n",
    "\n",
    "        self.target =  nn.Sequential(\n",
    "                            nn.Linear(f1, k),                   #nn.Sigmoid(),\n",
    "                            nn.Linear(k, k),                    #nn.Sigmoid()\n",
    "                            ) \n",
    "\n",
    "        \n",
    "        self.predictor = nn.Sequential(\n",
    "                            nn.Linear(f1, k),                  # nn.Sigmoid(),\n",
    "                            nn.Linear(k, k),                   # nn.Sigmoid()\n",
    "                            )  \n",
    "        self.predictor.apply(weights_init)\n",
    "        self.target.apply(weights_init)\n",
    "        \n",
    "            \n",
    "    def fix_target(self):\n",
    "        for param in self.target.parameters():\n",
    "            param.requires_grad = False\n",
    "\n",
    "    def reset(self):\n",
    "        self.predictor.apply(weights_init)\n",
    "        self.target.apply(weights_init)\n",
    "\n",
    "    def forward(self, x):\n",
    "        to = self.target(x)\n",
    "        po = self.predictor(x)\n",
    "\n",
    "        mse = (to - po).pow(2).sum(0) / self.k * 2\n",
    "\n",
    "        int_reward =  mse.detach().float().unsqueeze(0)\n",
    "\n",
    "        return to, po, int_reward\n",
    "    \n",
    "class RunningMeanStdWelford(object):\n",
    "    # https://en.wikipedia.org/wiki/Algorithms_for_calculating_variance#Parallel_algorithm\n",
    "    def __init__(self, input_size=()):\n",
    "        self.mean = np.zeros(input_size, 'float32')\n",
    "        self.var = np.ones(input_size, 'float32')\n",
    "        self.M2 = np.ones(input_size, 'float32')\n",
    "        self.count = 0\n",
    "\n",
    "    def update(self, xt):\n",
    "        x = xt.numpy()\n",
    "        self.count += 1\n",
    "        \n",
    "        delta = x - self.mean\n",
    "        self.mean += delta / self.count\n",
    "        delta2 = x - self.mean\n",
    "        self.M2 += delta * delta2\n",
    "        res = (x - self.mean) /  (self.M2 / (self.count ) )**(0.5)\n",
    "        return torch.from_numpy(res).float()\n"
   ]
  },
  {
   "cell_type": "code",
   "execution_count": 6,
   "id": "sunrise-thermal",
   "metadata": {},
   "outputs": [
    {
     "name": "stdout",
     "output_type": "stream",
     "text": [
      "[93600.22]\n",
      "[1.7654465e+10]\n"
     ]
    }
   ],
   "source": [
    "rnd = RND(state_dim = obs_n, k = k)\n",
    "rnd.fix_target()\n",
    "filt = RunningMeanStdWelford(1)\n",
    "ep = 3\n",
    "n = 401\n",
    "path = '../specials/A2CiLSTMRNDPN/_0526_22-30-30/'\n",
    "fn = join(path, 'e{}_n{}'.format(ep, n), 'data.csv')\n",
    "df = pd.read_csv(fn)\n",
    "#print(df)\n",
    "steps = range(1,400)\n",
    "for step in steps:\n",
    "    features_ns = tl(df.iloc[step,1:].values)\n",
    "    t, p, ri = rnd(features_ns)\n",
    "    filt.update(ri)\n",
    "print(filt.mean)\n",
    "print(filt.M2)"
   ]
  },
  {
   "cell_type": "markdown",
   "id": "narrow-shuttle",
   "metadata": {},
   "source": [
    "### Similares"
   ]
  },
  {
   "cell_type": "code",
   "execution_count": 8,
   "id": "severe-puzzle",
   "metadata": {},
   "outputs": [
    {
     "data": {
      "image/png": "[encoded data removed]",
      "text/plain": [
       "<Figure size 576x360 with 1 Axes>"
      ]
     },
     "metadata": {
      "needs_background": "light"
     },
     "output_type": "display_data"
    }
   ],
   "source": [
    "\n",
    "\n",
    "\n",
    "b = []\n",
    "for _ in range(50):\n",
    "    obs_n = 8\n",
    "    k = 16\n",
    "\n",
    "    SAMPLE_SIZE = 1_000\n",
    "    rnd = RND(state_dim = obs_n, k = k)\n",
    "\n",
    "    rnd.fix_target()\n",
    "    rnd_optimizer = torch.optim.Adam(rnd.predictor.parameters(), lr = 1e-1)\n",
    "\n",
    "    n_opt = 20\n",
    "\n",
    "    ep = 3\n",
    "    n = 401\n",
    "    path = '../specials/A2CiLSTMRNDPN/_0526_22-30-30/'\n",
    "    fn = join(path, 'e{}_n{}'.format(ep, n), 'data.csv')\n",
    "    df = pd.read_csv(fn)\n",
    "\n",
    "\n",
    "    steps = [1,2,3,4,5]\n",
    "\n",
    "    \n",
    "    r = []\n",
    "\n",
    "    for step in steps:\n",
    "        features_ns = tl(df.iloc[step,1:].values)\n",
    "\n",
    "        x = features_ns.unsqueeze(0)\n",
    "        xs = torch.repeat_interleave(x, n_opt, dim=0)\n",
    "\n",
    "        for i, x_i in enumerate(xs):\n",
    "            t, p, ri = rnd(x_i)\n",
    "            ri =filt.update(ri)\n",
    "            if i == 0:\n",
    "                r.append(ri)\n",
    "\n",
    "            int_loss = F.mse_loss(t.detach(),p)\n",
    "            rnd_optimizer.zero_grad()\n",
    "            int_loss.backward()\n",
    "            rnd_optimizer.step()\n",
    "    b.append(r)\n",
    "f,ax = plt.subplots(1,1,figsize = (8,5))\n",
    "b = np.array(b)\n",
    "#print(b)\n",
    "r = np.mean(b, axis =0)\n",
    "s = np.std(b, axis = 0)\n",
    "\n",
    "\n",
    "\n",
    "ax.plot(steps,r, 'b')\n",
    "\n",
    "ax.fill_between(steps, r - 2*s, r + 2*s,\n",
    "                 color='gray', alpha=0.2)\n",
    "\n",
    "ax.set_title('Caso de observaciones similares para RND lineal', fontsize = 15)\n",
    "leg = ['${}^1o_1$', '${}^1o_2$','${}^1o_3$', '${}^1o_4$', '${}^1o_5$']\n",
    "plt.xticks(steps,leg, fontsize = 14)\n",
    "ax.set_ylabel('$r_{int}$', fontsize = 20)\n",
    "ax.set_xlabel('observaciones', fontsize = 20)\n",
    "plt.grid(True)\n"
   ]
  },
  {
   "cell_type": "markdown",
   "id": "packed-costa",
   "metadata": {},
   "source": [
    "### Diferentes"
   ]
  },
  {
   "cell_type": "code",
   "execution_count": 9,
   "id": "liquid-israeli",
   "metadata": {},
   "outputs": [
    {
     "data": {
      "image/png": "[encoded data removed]",
      "text/plain": [
       "<Figure size 576x360 with 1 Axes>"
      ]
     },
     "metadata": {
      "needs_background": "light"
     },
     "output_type": "display_data"
    }
   ],
   "source": [
    "b = []\n",
    "for _ in range(50):\n",
    "    rnd = RND(state_dim = 8)\n",
    "    rnd.fix_target()\n",
    "\n",
    "    rnd_optimizer = torch.optim.Adam(rnd.predictor.parameters(), lr = 1e-1 )\n",
    "    n_opt = 30\n",
    "\n",
    "    ep = 3\n",
    "    path = '../specials/A2CiLSTMRNDPN/_0526_22-30-30/'\n",
    "    #path = '../specials/A2CiLSTMRNDPN/_0526_22-30-30/'\n",
    "\n",
    "    ns = [401,401,401,401,401,401]#,401,401,401]# 67,8,89,110,30,116,201,194]\n",
    "    eps = [30,31,36,33,34,35]#,36,37]\n",
    "\n",
    "\n",
    "    r = []\n",
    "\n",
    "    for ep, n in zip(eps, ns):\n",
    "        fn = join(path, 'e{}_n{}'.format(ep, n), 'data.csv')\n",
    "        df = pd.read_csv(fn)\n",
    "        features_ns = tl(df.iloc[-1,1:].values)\n",
    "\n",
    "        x = features_ns.unsqueeze(0)\n",
    "        xs = torch.repeat_interleave(x, n_opt, dim=0)\n",
    "\n",
    "\n",
    "\n",
    "        for i, x_i in enumerate(xs):\n",
    "            t, p, ri = rnd(x_i)\n",
    "            ri =filt.update(ri)\n",
    "            if i == 0:\n",
    "                r.append(ri)\n",
    "            \n",
    "\n",
    "            #r.append(ri)\n",
    "            int_loss = F.mse_loss(p, t.detach())\n",
    "            #int_loss = F.binary_cross_entropy(p, t.detach())\n",
    "\n",
    "            rnd_optimizer.zero_grad()\n",
    "            int_loss.backward()\n",
    "            rnd_optimizer.step()\n",
    "    b.append(r)\n",
    "\n",
    "b = np.array(b)\n",
    "#print(b)\n",
    "r = np.mean(b, axis =0)\n",
    "s = np.std(b, axis = 0)\n",
    "\n",
    "r = r[1:]\n",
    "s = s[1:]\n",
    "\n",
    "        \n",
    "f,ax = plt.subplots(1,1,figsize = (8,5))\n",
    "\n",
    "steps = [1,2,3,4,5]\n",
    "ax.plot(steps,r, 'brown')\n",
    "ax.fill_between(steps, r - 2*s, r + 2*s,\n",
    "                 color='gray', alpha=0.2)\n",
    "    \n",
    "ax.set_title('Caso de observaciones diferentes para RND lineales', fontsize = 15)    \n",
    "leg = ['${}^1o_1$', '${}^2o_1$','${}^3o_1$', '${}^4o_1$', '${}^5o_1$']\n",
    "plt.xticks(steps,leg, fontsize = 15)\n",
    "ax.set_ylabel('$r_{int}$', fontsize = 20)\n",
    "ax.set_xlabel('epochs entrenamiento de RND', fontsize = 15)\n",
    "plt.grid(True)\n"
   ]
  },
  {
   "cell_type": "markdown",
   "id": "amended-language",
   "metadata": {},
   "source": [
    "## Sigmoide"
   ]
  },
  {
   "cell_type": "code",
   "execution_count": 11,
   "id": "known-advice",
   "metadata": {},
   "outputs": [],
   "source": [
    "class RND(nn.Module):\n",
    "    def __init__(self, state_dim = 16, k = 16):\n",
    "        super(RND, self).__init__()      \n",
    "        self.first = True\n",
    "\n",
    "        f1 = state_dim\n",
    "        f2 = 32\n",
    "        f3 = 16\n",
    "        f4 = 16\n",
    "        self.k = k\n",
    "        \n",
    "\n",
    "        self.target =  nn.Sequential(\n",
    "                            nn.Linear(f1, k),                   nn.Sigmoid(),\n",
    "                            nn.Linear(k, k),                    nn.Sigmoid()\n",
    "                            ) \n",
    "\n",
    "        \n",
    "        self.predictor = nn.Sequential(\n",
    "                            nn.Linear(f1, k),                   nn.Sigmoid(),\n",
    "                            nn.Linear(k, k),                   nn.Sigmoid()\n",
    "                            )  \n",
    "        self.predictor.apply(weights_init)\n",
    "        self.target.apply(weights_init)\n",
    "        \n",
    "            \n",
    "    def fix_target(self):\n",
    "        for param in self.target.parameters():\n",
    "            param.requires_grad = False\n",
    "\n",
    "    def reset(self):\n",
    "        self.predictor.apply(weights_init)\n",
    "        self.target.apply(weights_init)\n",
    "\n",
    "    def forward(self, x):\n",
    "        to = self.target(x)\n",
    "        po = self.predictor(x)\n",
    "\n",
    "        mse = (to - po).pow(2).sum(0) / self.k * 2\n",
    "\n",
    "        int_reward =  mse.detach().float().unsqueeze(0)\n",
    "\n",
    "        return to, po, int_reward"
   ]
  },
  {
   "cell_type": "markdown",
   "id": "distinguished-alignment",
   "metadata": {},
   "source": [
    "### Similares"
   ]
  },
  {
   "cell_type": "code",
   "execution_count": 12,
   "id": "fallen-atmosphere",
   "metadata": {},
   "outputs": [
    {
     "data": {
      "image/png": "[encoded data removed]",
      "text/plain": [
       "<Figure size 576x360 with 1 Axes>"
      ]
     },
     "metadata": {
      "needs_background": "light"
     },
     "output_type": "display_data"
    }
   ],
   "source": [
    "\n",
    "b = []\n",
    "for _ in range(10):\n",
    "    obs_n = 8\n",
    "    k = 16\n",
    "\n",
    "    SAMPLE_SIZE = 1_000\n",
    "    rnd = RND(state_dim = obs_n, k = k)\n",
    "    \n",
    "    predictor_opt = torch.optim.Adam(rnd.predictor.parameters(), lr = 1e-2)\n",
    "    target_opt = torch.optim.Adam(rnd.target.parameters(), lr = 1e-2)\n",
    "\n",
    "    pred_data_in = torch.rand((SAMPLE_SIZE, obs_n))\n",
    "    target_data_in = torch.rand((SAMPLE_SIZE, obs_n))\n",
    "\n",
    "    pred_data_out = torch.zeros((SAMPLE_SIZE, k), requires_grad=False)\n",
    "    target_data_out = torch.ones((SAMPLE_SIZE, k), requires_grad=False)\n",
    "\n",
    "    for i in range(SAMPLE_SIZE):\n",
    "        pred_loss = F.binary_cross_entropy(rnd.predictor(pred_data_in[i]), pred_data_out[i])\n",
    "        predictor_opt.zero_grad()\n",
    "        pred_loss.backward()\n",
    "        predictor_opt.step()\n",
    "\n",
    "        target_loss = F.binary_cross_entropy(rnd.target(target_data_in[i]), target_data_out[i])\n",
    "        target_opt.zero_grad()\n",
    "        target_loss.backward()\n",
    "        target_opt.step()\n",
    "\n",
    "    rnd.fix_target()\n",
    "    rnd_optimizer = torch.optim.Adam(rnd.predictor.parameters(), lr = 1e-1)\n",
    "\n",
    "    n_opt = 20\n",
    "\n",
    "    ep = 3\n",
    "    n = 401\n",
    "    path = '../specials/A2CiLSTMRNDPN/_0526_22-30-30/'\n",
    "    fn = join(path, 'e{}_n{}'.format(ep, n), 'data.csv')\n",
    "    df = pd.read_csv(fn)\n",
    "\n",
    "\n",
    "    steps = [1,2,3,4,5]\n",
    "\n",
    "    \n",
    "    r = []\n",
    "\n",
    "    for step in steps:\n",
    "        features_ns = tl(df.iloc[step,1:].values)\n",
    "\n",
    "        x = features_ns.unsqueeze(0)\n",
    "        xs = torch.repeat_interleave(x, n_opt, dim=0)\n",
    "\n",
    "        for i, x_i in enumerate(xs):\n",
    "            t, p, ri = rnd(x_i)\n",
    "            if i == 0:\n",
    "                r.append(ri)\n",
    "\n",
    "            int_loss = F.binary_cross_entropy(p, t.detach())\n",
    "            rnd_optimizer.zero_grad()\n",
    "            int_loss.backward()\n",
    "            rnd_optimizer.step()\n",
    "    b.append(r)\n",
    "    \n",
    "f,ax = plt.subplots(1,1,figsize = (8,5))\n",
    "b = np.array(b)\n",
    "#print(b)\n",
    "r = np.mean(b, axis =0)\n",
    "s = np.std(b, axis = 0)\n",
    "\n",
    "ax.plot(steps,r, 'b')\n",
    "\n",
    "ax.fill_between(steps, r - 2*s, r + 2*s,\n",
    "                 color='gray', alpha=0.2)\n",
    "\n",
    "ax.set_title('Caso de observaciones similares para RND sigmoide', fontsize = 15)\n",
    "leg = ['${}^1o_1$', '${}^1o_2$','${}^1o_3$', '${}^1o_4$', '${}^1o_5$']\n",
    "plt.xticks(steps,leg, fontsize = 14)\n",
    "ax.set_ylabel('$r_{int}$', fontsize = 20)\n",
    "ax.set_xlabel('observaciones', fontsize = 20)\n",
    "plt.grid(True)\n"
   ]
  },
  {
   "cell_type": "markdown",
   "id": "permanent-italic",
   "metadata": {},
   "source": [
    "### Diferentes"
   ]
  },
  {
   "cell_type": "code",
   "execution_count": 13,
   "id": "raised-north",
   "metadata": {},
   "outputs": [
    {
     "data": {
      "image/png": "[encoded data removed]",
      "text/plain": [
       "<Figure size 576x360 with 1 Axes>"
      ]
     },
     "metadata": {
      "needs_background": "light"
     },
     "output_type": "display_data"
    }
   ],
   "source": [
    "b = []\n",
    "for _ in range(10):\n",
    "    rnd = RND(state_dim = 8)\n",
    "    \n",
    "    predictor_opt = torch.optim.Adam(rnd.predictor.parameters(), lr = 1e-2)\n",
    "    target_opt = torch.optim.Adam(rnd.target.parameters(), lr = 1e-2)\n",
    "\n",
    "    pred_data_in = torch.rand((SAMPLE_SIZE, obs_n))\n",
    "    target_data_in = torch.rand((SAMPLE_SIZE, obs_n))\n",
    "\n",
    "    pred_data_out = torch.zeros((SAMPLE_SIZE, k), requires_grad=False)\n",
    "    target_data_out = torch.ones((SAMPLE_SIZE, k), requires_grad=False)\n",
    "\n",
    "    for i in range(SAMPLE_SIZE):\n",
    "        pred_loss = F.binary_cross_entropy(rnd.predictor(pred_data_in[i]), pred_data_out[i])\n",
    "        predictor_opt.zero_grad()\n",
    "        pred_loss.backward()\n",
    "        predictor_opt.step()\n",
    "\n",
    "        target_loss = F.binary_cross_entropy(rnd.target(target_data_in[i]), target_data_out[i])\n",
    "        target_opt.zero_grad()\n",
    "        target_loss.backward()\n",
    "        target_opt.step()\n",
    "\n",
    "    rnd.fix_target()\n",
    "    rnd_optimizer = torch.optim.Adam(rnd.predictor.parameters(), lr = 1e-1 )\n",
    "    n_opt = 30\n",
    "\n",
    "    ep = 3\n",
    "    path = '../specials/A2CiLSTMRNDPN/_0526_22-30-30/'\n",
    "    #path = '../specials/A2CiLSTMRNDPN/_0526_22-30-30/'\n",
    "\n",
    "    ns = [401,401,401,401,401, 401]#,401,401,401]# 67,8,89,110,30,116,201,194]\n",
    "    eps = [30,31,32,33,34,35]#,36,37]\n",
    "\n",
    "\n",
    "    r = []\n",
    "\n",
    "    for ep, n in zip(eps, ns):\n",
    "        fn = join(path, 'e{}_n{}'.format(ep, n), 'data.csv')\n",
    "        df = pd.read_csv(fn)\n",
    "        features_ns = tl(df.iloc[-1,1:].values)\n",
    "\n",
    "        x = features_ns.unsqueeze(0)\n",
    "        xs = torch.repeat_interleave(x, n_opt, dim=0)\n",
    "\n",
    "\n",
    "\n",
    "        for i, x_i in enumerate(xs):\n",
    "            t, p, ri = rnd(x_i)\n",
    "            if i == 0:\n",
    "                r.append(ri)\n",
    "\n",
    "            #r.append(ri)\n",
    "            int_loss = F.mse_loss(p, t.detach())\n",
    "            #int_loss = F.binary_cross_entropy(p, t.detach())\n",
    "\n",
    "            rnd_optimizer.zero_grad()\n",
    "            int_loss.backward()\n",
    "            rnd_optimizer.step()\n",
    "    b.append(r)\n",
    "\n",
    "b = np.array(b)\n",
    "#print(b)\n",
    "r = np.mean(b, axis =0)\n",
    "s = np.std(b, axis = 0)\n",
    "        \n",
    "f,ax = plt.subplots(1,1,figsize = (8,5))\n",
    "\n",
    "r = r[1:]\n",
    "s = s[1:]\n",
    "\n",
    "\n",
    "steps = [1,2,3,4,5]\n",
    "ax.plot(steps,r, 'brown')\n",
    "ax.fill_between(steps, r - 2*s, r + 2*s,\n",
    "                 color='gray', alpha=0.2)\n",
    "    \n",
    "ax.set_title('Caso de observaciones diferentes para RND sigmoide', fontsize = 15)    \n",
    "leg = ['${}^1o_1$', '${}^2o_1$','${}^3o_1$', '${}^4o_1$', '${}^5o_1$']\n",
    "plt.xticks(steps,leg, fontsize = 15)\n",
    "ax.set_ylabel('$r_{int}$', fontsize = 20)\n",
    "ax.set_xlabel('epochs entrenamiento de RND', fontsize = 15)\n",
    "plt.grid(True)\n"
   ]
  }
 ],
 "metadata": {
  "kernelspec": {
   "display_name": "Python 3",
   "language": "python",
   "name": "python3"
  },
  "language_info": {
   "codemirror_mode": {
    "name": "ipython",
    "version": 3
   },
   "file_extension": ".py",
   "mimetype": "text/x-python",
   "name": "python",
   "nbconvert_exporter": "python",
   "pygments_lexer": "ipython3",
   "version": "3.6.9"
  }
 },
 "nbformat": 4,
 "nbformat_minor": 5
}
